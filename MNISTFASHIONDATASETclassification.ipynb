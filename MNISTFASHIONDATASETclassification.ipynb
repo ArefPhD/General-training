{
  "nbformat": 4,
  "nbformat_minor": 0,
  "metadata": {
    "colab": {
      "name": "Untitled55.ipynb",
      "private_outputs": true,
      "provenance": [],
      "authorship_tag": "ABX9TyOr23e/3P8nPAG3c8kyz9z6",
      "include_colab_link": true
    },
    "kernelspec": {
      "name": "python3",
      "display_name": "Python 3"
    },
    "language_info": {
      "name": "python"
    }
  },
  "cells": [
    {
      "cell_type": "markdown",
      "metadata": {
        "id": "view-in-github",
        "colab_type": "text"
      },
      "source": [
        "<a href=\"https://colab.research.google.com/github/ArefPhD/General-training/blob/main/MNISTFASHIONDATASETclassification.ipynb\" target=\"_parent\"><img src=\"https://colab.research.google.com/assets/colab-badge.svg\" alt=\"Open In Colab\"/></a>"
      ]
    },
    {
      "cell_type": "code",
      "metadata": {
        "id": "G2aOTDWx9wlm"
      },
      "source": [
        "\n",
        "# example of loading the fashion mnist dataset\n",
        "from matplotlib import pyplot\n",
        "from keras.datasets import fashion_mnist\n",
        "# load dataset\n",
        "(x_train_eldo, y_train_eldo), (x_test_eldo, y_test_eldo) = fashion_mnist.load_data()\n",
        "# summarize loaded dataset\n",
        "print('Train: X=%s, y=%s' % (trainX.shape, trainy.shape))\n",
        "print('Test: X=%s, y=%s' % (testX.shape, testy.shape))\n",
        "# plot first few images\n",
        "for i in range(9):\n",
        "\t# define subplot\n",
        "\tpyplot.subplot(330 + 1 + i)\n",
        "\t# plot raw pixel data\n",
        "\tpyplot.imshow(trainX[i], cmap=pyplot.get_cmap('gray'))\n",
        "# show the figure\n",
        "pyplot.show()"
      ],
      "execution_count": null,
      "outputs": []
    },
    {
      "cell_type": "code",
      "metadata": {
        "id": "YI0WUV6W902f"
      },
      "source": [
        "trainX.shape"
      ],
      "execution_count": null,
      "outputs": []
    },
    {
      "cell_type": "code",
      "metadata": {
        "id": "c6BE5_oz9_cr"
      },
      "source": [
        "import tensorflow as tf\n",
        "\n",
        "x_train_eldo, x_test_eldo = x_train_eldo / 255.0, x_test_eldo / 255.0\n",
        "model = tf.keras.models.Sequential([\n",
        "  tf.keras.layers.Flatten(input_shape=(28, 28)),\n",
        "  tf.keras.layers.Dense(128, activation='relu'),\n",
        "  tf.keras.layers.Dropout(0.2),\n",
        "  tf.keras.layers.Dense(10)\n",
        "])\n",
        "\n",
        "\n",
        "x_train_eldo[:1]\n",
        "\n",
        "predictions = model(x_train_eldo[:1])\n",
        "predictions\n",
        "\n",
        "tf.nn.softmax(predictions)\n",
        "loss_fn = tf.keras.losses.SparseCategoricalCrossentropy(from_logits=True)\n",
        "\n",
        "model.compile(optimizer='adam',\n",
        "              loss=loss_fn,\n",
        "              metrics=['accuracy'])\n",
        "\n",
        "model.fit(x_train_eldo, y_train_eldo, epochs=50)\n",
        "\n",
        "\n",
        "\n",
        "\n",
        "probability_model = tf.keras.Sequential([\n",
        "  model,\n",
        "  tf.keras.layers.Softmax()\n",
        "])\n",
        "\n",
        "\n",
        "\n",
        "\n",
        "probability_model(x_test_eldo[:5])\n"
      ],
      "execution_count": null,
      "outputs": []
    },
    {
      "cell_type": "code",
      "metadata": {
        "id": "T8lIIfSr_R33"
      },
      "source": [
        "from keras import backend as K\n"
      ],
      "execution_count": null,
      "outputs": []
    },
    {
      "cell_type": "code",
      "metadata": {
        "id": "SfMfJ-DT_N5Z"
      },
      "source": [
        "S=x_train_eldo[280]\n",
        "S.shape\n",
        "L=tf.reshape(S, [28, 28, 1])\n",
        "L = K.eval(L)\n",
        "pil_img = tf.keras.preprocessing.image.array_to_img(L)\n",
        "pil_img"
      ],
      "execution_count": null,
      "outputs": []
    },
    {
      "cell_type": "code",
      "metadata": {
        "id": "uz0A6KxN_gWV"
      },
      "source": [
        "y_train_eldo[280]"
      ],
      "execution_count": null,
      "outputs": []
    },
    {
      "cell_type": "code",
      "metadata": {
        "id": "IkrVlZlX_Xfg"
      },
      "source": [
        "import numpy as np"
      ],
      "execution_count": null,
      "outputs": []
    },
    {
      "cell_type": "code",
      "metadata": {
        "id": "lujkrCyb_WWJ"
      },
      "source": [
        "S=x_train_eldo[280]\n",
        "S.shape\n",
        "L=tf.reshape(S, [1, 28, 28])\n",
        "L= K.eval(L)\n",
        "np.argmax(model.predict(L), axis=-1)"
      ],
      "execution_count": null,
      "outputs": []
    },
    {
      "cell_type": "code",
      "metadata": {
        "id": "xQxpD4BU_9Y4"
      },
      "source": [
        "model.summary()"
      ],
      "execution_count": null,
      "outputs": []
    }
  ]
}