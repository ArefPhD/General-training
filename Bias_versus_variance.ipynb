{
  "nbformat": 4,
  "nbformat_minor": 0,
  "metadata": {
    "colab": {
      "name": "Bias_versus_variance.ipynb",
      "private_outputs": true,
      "provenance": [],
      "authorship_tag": "ABX9TyOlTUhZJrey/CXuOfPIRhND",
      "include_colab_link": true
    },
    "kernelspec": {
      "name": "python3",
      "display_name": "Python 3"
    },
    "language_info": {
      "name": "python"
    }
  },
  "cells": [
    {
      "cell_type": "markdown",
      "metadata": {
        "id": "view-in-github",
        "colab_type": "text"
      },
      "source": [
        "<a href=\"https://colab.research.google.com/github/ArefPhD/General-training/blob/main/Bias_versus_variance.ipynb\" target=\"_parent\"><img src=\"https://colab.research.google.com/assets/colab-badge.svg\" alt=\"Open In Colab\"/></a>"
      ]
    },
    {
      "cell_type": "code",
      "metadata": {
        "id": "PXGMOW55ScmV"
      },
      "source": [
        "import numpy as np\n",
        "import matplotlib.pyplot as plt\n",
        "from sklearn.linear_model import LinearRegression, Ridge, Lasso\n",
        "from tqdm import tqdm"
      ],
      "execution_count": null,
      "outputs": []
    },
    {
      "cell_type": "code",
      "metadata": {
        "id": "Li6WKb_ySgFn"
      },
      "source": [
        "def sim_data(N = 500, b0 = 2, b1 = 3, runs = 1000):\n",
        "    data = np.zeros(shape=(runs, N, 2))\n",
        "    for i in range(runs):\n",
        "        x = np.random.uniform(-2, 2, size=(N, 1))\n",
        "        e = np.random.normal(0, 8, size=(N, 1))\n",
        "        y = b0 + b1 * x + e  # y = 2x + 3 + E\n",
        "        data[i] = np.column_stack((x, y))\n",
        "    return data"
      ],
      "execution_count": null,
      "outputs": []
    },
    {
      "cell_type": "code",
      "metadata": {
        "id": "ybSbpQBLSwnr"
      },
      "source": [
        "# helper to create array of models\n",
        "def make_models(alpha):\n",
        "    return [LinearRegression(fit_intercept=True, normalize=True), \n",
        "            Ridge(fit_intercept=True, alpha=alpha, normalize=True, solver=\"saga\"),\n",
        "            Lasso(fit_intercept=True, alpha=alpha, normalize=True)]\n",
        "\n",
        "# helper to generate data, fit models, cache results and return \n",
        "def do_pred(data, X_test, n=1000, alpha=0.5):\n",
        "    models = make_models(alpha=alpha)\n",
        "    coefs = np.zeros(shape=(n, len(models)))\n",
        "    intercepts = np.zeros(shape=(n, len(models)))\n",
        "    preds = np.zeros(shape=(n, len(models)))\n",
        "    # for n iters, simulate data, fit model, get coeffs\n",
        "    for i in range(len(data)):\n",
        "        X = data[i, :, 0].reshape(-1 ,1)\n",
        "        y = data[i, :, 1].reshape(-1, 1)\n",
        "        for idx, model in enumerate(models):\n",
        "            model.fit(X, y)\n",
        "            preds[i, idx] = model.predict(X_test)\n",
        "            coefs[i, idx] = float(model.coef_)\n",
        "            intercepts[i, idx] = float(model.intercept_)\n",
        "    return coefs, intercepts, preds\n",
        "\n",
        "def compute_bv(preds, true):\n",
        "    means = np.mean(preds, 0)\n",
        "    bias = true - means\n",
        "    variance = np.mean(np.abs(preds - means), 0)\n",
        "    return bias, variance\n",
        "\n",
        "# helper to plot, c is the coefficient array of size (N x 3)\n",
        "def show_plot(p, alpha, filename=None):\n",
        "    plt.figure(figsize=(10, 5))\n",
        "    \n",
        "    # plot distribution, colors from color brewer\n",
        "    plt.hist(p[:, 0], label=\"OLS\", alpha=0.5, bins=50, color=\"#2ca25f\")\n",
        "    plt.hist(p[:, 1], label=\"Ridge\", alpha=0.5, bins=50, color=\"#e6550d\")\n",
        "    plt.hist(p[:, 2], label=\"Lasso\", alpha=0.5, bins=50, color=\"#3182bd\")\n",
        "    \n",
        "    # plot means of predictions \n",
        "    _means = np.mean(p, axis=0)\n",
        "    plt.vlines(x=_means, ymin=0, ymax=80, linestyles=\"dashed\", linewidth=2,\n",
        "               colors=[\"#006d2c\", \"#a63603\", \"#08519c\"])\n",
        "    plt.vlines(x=11, ymin=0, ymax=80, linestyles=\"dashed\", linewidth=2,\n",
        "               colors=\"#737373\", label=\"True\")\n",
        "\n",
        "    # final touches\n",
        "    plt.ylim(0, 70)\n",
        "    plt.legend(bbox_to_anchor=(1, 1))\n",
        "    if alpha == \"FAKE\":\n",
        "        ttl = \"Fabricated distribution of predictions\"\n",
        "    else:\n",
        "        ttl = \"Distribution of prediction for lambda = {0}\".format(alpha)\n",
        "    plt.title(ttl)\n",
        "    \n",
        "    plt.show()"
      ],
      "execution_count": null,
      "outputs": []
    },
    {
      "cell_type": "code",
      "metadata": {
        "id": "sOUZyNwBU9_4"
      },
      "source": [
        "data = sim_data()\n",
        "X_test = np.array([[3]])"
      ],
      "execution_count": null,
      "outputs": []
    },
    {
      "cell_type": "code",
      "metadata": {
        "id": "mv0Dv3imVgnN"
      },
      "source": [
        "data = sim_data()\n",
        "X_test = np.array([[3]])"
      ],
      "execution_count": null,
      "outputs": []
    },
    {
      "cell_type": "code",
      "metadata": {
        "id": "mYKSB8EgU_vD"
      },
      "source": [
        "c, i, p = do_pred(data, X_test, alpha=0.0001)\n",
        "show_plot(p, 0.0001, \"a\")"
      ],
      "execution_count": null,
      "outputs": []
    },
    {
      "cell_type": "code",
      "metadata": {
        "id": "qioOShidW1Ri"
      },
      "source": [
        "c, i, p = do_pred(data, X_test, alpha=0.01)\n",
        "show_plot(p, 0.01, \"l0_01\")"
      ],
      "execution_count": null,
      "outputs": []
    },
    {
      "cell_type": "code",
      "metadata": {
        "id": "qef0caNEW34_"
      },
      "source": [
        "c, i, p = do_pred(data, X_test, alpha=0.05)\n",
        "show_plot(p, 0.05, \"l0_05\")"
      ],
      "execution_count": null,
      "outputs": []
    },
    {
      "cell_type": "code",
      "metadata": {
        "id": "QUHqhoVuW7tq"
      },
      "source": [
        "c, i, p = do_pred(data, X_test, alpha=0.1)\n",
        "show_plot(p, 0.1, \"l0_1\")"
      ],
      "execution_count": null,
      "outputs": []
    },
    {
      "cell_type": "code",
      "metadata": {
        "id": "SwynEpt5W97I"
      },
      "source": [
        "c, i, p = do_pred(data, X_test, alpha=0.5)\n",
        "show_plot(p, 0.5, \"l0_5\")"
      ],
      "execution_count": null,
      "outputs": []
    },
    {
      "cell_type": "code",
      "metadata": {
        "id": "7uVE89StW_81"
      },
      "source": [
        "c, i, p = do_pred(data, X_test, alpha=1)\n",
        "show_plot(p, 1, \"l1\")"
      ],
      "execution_count": null,
      "outputs": []
    },
    {
      "cell_type": "code",
      "metadata": {
        "id": "cFFMMj_TXCR-"
      },
      "source": [
        "c, i, p = do_pred(data, X_test, alpha=5)\n",
        "show_plot(p, 5, \"l5\")"
      ],
      "execution_count": null,
      "outputs": []
    },
    {
      "cell_type": "code",
      "metadata": {
        "id": "Ur2jMxnkXL5O"
      },
      "source": [
        "lambdas = np.linspace(0.0001, 1, 100)\n"
      ],
      "execution_count": null,
      "outputs": []
    },
    {
      "cell_type": "code",
      "metadata": {
        "id": "cgivDYbvXNsZ"
      },
      "source": [
        "bias = np.zeros(shape=(len(lambdas), 3))\n",
        "variance = np.zeros(shape=(len(lambdas), 3))"
      ],
      "execution_count": null,
      "outputs": []
    },
    {
      "cell_type": "code",
      "metadata": {
        "id": "_WUJ1Kv6XPkF"
      },
      "source": [
        "\n",
        "for idx, _lambda in tqdm(enumerate(lambdas)):\n",
        "    c, i, p = do_pred(data, X_test, alpha=_lambda)\n",
        "    b, v = compute_bv(p, true=11)\n",
        "    bias[idx, :] = b\n",
        "    variance[idx, :] = v"
      ],
      "execution_count": null,
      "outputs": []
    },
    {
      "cell_type": "code",
      "metadata": {
        "id": "pv7yT7C7XR73"
      },
      "source": [
        "plt.figure(figsize=(10, 4))\n",
        "plt.subplot(1, 2, 1)\n",
        "plt.plot(lambdas, bias[:, 0], label=\"OLS\", color=\"#2ca25f\")\n",
        "plt.plot(lambdas, bias[:, 1], label=\"Ridge\", color=\"#d95f0e\")\n",
        "plt.plot(lambdas, bias[:, 2], label=\"Lasso\", color=\"#2b8cbe\")\n",
        "plt.xlabel(\"Regularization coefficient\")\n",
        "plt.ylabel(\"Bias\")\n",
        "plt.title(\"Bias vs Lambda\")\n",
        "plt.legend(loc=\"upper right\")\n",
        "plt.grid()\n",
        "plt.subplot(1, 2, 2)\n",
        "plt.plot(lambdas, variance[:, 0], label=\"OLS\", color=\"#2ca25f\")\n",
        "plt.plot(lambdas, variance[:, 1], label=\"Ridge\", color=\"#d95f0e\")\n",
        "plt.plot(lambdas, variance[:, 2], label=\"Lasso\", color=\"#2b8cbe\")\n",
        "plt.xlabel(\"Regularization coefficient\")\n",
        "plt.ylabel(\"Variance\")\n",
        "plt.title(\"Variance vs Lambda\")\n",
        "plt.legend(loc=\"upper right\")\n",
        "plt.grid()\n",
        "plt.savefig(\"./figures/bvplot.png\")\n",
        "plt.show()"
      ],
      "execution_count": null,
      "outputs": []
    }
  ]
}