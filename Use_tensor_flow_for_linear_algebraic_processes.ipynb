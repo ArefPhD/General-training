{
  "nbformat": 4,
  "nbformat_minor": 0,
  "metadata": {
    "colab": {
      "name": "Use tensor flow for linear algebraic processes.ipynb",
      "private_outputs": true,
      "provenance": [],
      "authorship_tag": "ABX9TyN0JrSY9mLiwFKtNZMd0sHD",
      "include_colab_link": true
    },
    "kernelspec": {
      "name": "python3",
      "display_name": "Python 3"
    },
    "language_info": {
      "name": "python"
    }
  },
  "cells": [
    {
      "cell_type": "markdown",
      "metadata": {
        "id": "view-in-github",
        "colab_type": "text"
      },
      "source": [
        "<a href=\"https://colab.research.google.com/github/ArefPhD/General-training/blob/main/Use_tensor_flow_for_linear_algebraic_processes.ipynb\" target=\"_parent\"><img src=\"https://colab.research.google.com/assets/colab-badge.svg\" alt=\"Open In Colab\"/></a>"
      ]
    },
    {
      "cell_type": "code",
      "metadata": {
        "id": "eYGJGtOneOf9"
      },
      "source": [
        "\n",
        "from __future__ import print_function\n",
        "import tensorflow as tf"
      ],
      "execution_count": null,
      "outputs": []
    },
    {
      "cell_type": "code",
      "metadata": {
        "id": "dzpvGGabeRV4"
      },
      "source": [
        "# Define tensor constants.\n",
        "a = tf.constant(20)\n",
        "b = tf.constant(7)\n",
        "c = tf.constant(15)"
      ],
      "execution_count": null,
      "outputs": []
    },
    {
      "cell_type": "code",
      "metadata": {
        "id": "UtFnZ04AeTat"
      },
      "source": [
        "# Various tensor operations.\n",
        "# Note: Tensors also support python operators (+, *, ...)\n",
        "add = tf.add(a, b)\n",
        "sub = tf.subtract(a, b)\n",
        "mul = tf.multiply(a, b)\n",
        "div = tf.divide(a, b)\n",
        "\n",
        "# Access tensors value.\n",
        "print(\"add =\", add.numpy())\n",
        "print(\"sub =\", sub.numpy())\n",
        "print(\"mul =\", mul.numpy())\n",
        "print(\"div =\", div.numpy())"
      ],
      "execution_count": null,
      "outputs": []
    }
  ]
}