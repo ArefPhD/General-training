{
  "nbformat": 4,
  "nbformat_minor": 0,
  "metadata": {
    "colab": {
      "name": "Untitled61.ipynb",
      "private_outputs": true,
      "provenance": [],
      "authorship_tag": "ABX9TyMp4K3RjP6rI6p4vFNkTO/Z",
      "include_colab_link": true
    },
    "kernelspec": {
      "name": "python3",
      "display_name": "Python 3"
    },
    "language_info": {
      "name": "python"
    }
  },
  "cells": [
    {
      "cell_type": "markdown",
      "metadata": {
        "id": "view-in-github",
        "colab_type": "text"
      },
      "source": [
        "<a href=\"https://colab.research.google.com/github/ArefPhD/General-training/blob/main/Differentfunctions_andlayersoutput.ipynb\" target=\"_parent\"><img src=\"https://colab.research.google.com/assets/colab-badge.svg\" alt=\"Open In Colab\"/></a>"
      ]
    },
    {
      "cell_type": "code",
      "metadata": {
        "id": "9sAa2sF-4Bto"
      },
      "source": [
        "from tensorflow import nn"
      ],
      "execution_count": null,
      "outputs": []
    },
    {
      "cell_type": "code",
      "metadata": {
        "id": "MtPAisa26QoM"
      },
      "source": [
        "from PIL import Image"
      ],
      "execution_count": null,
      "outputs": []
    },
    {
      "cell_type": "code",
      "metadata": {
        "id": "K77mjnjO97TS"
      },
      "source": [
        "from google.colab import files\n",
        "\n",
        "up=files.upload()"
      ],
      "execution_count": null,
      "outputs": []
    },
    {
      "cell_type": "code",
      "metadata": {
        "id": "TbNcZp-Fvhdh"
      },
      "source": [
        "def Cov2d(x,k=1):\n",
        "    \n",
        "    K=np.array([\n",
        "    [ [[2]], [[2]] ],\n",
        "    [ [[2]],[[1]] ], ])\n",
        "\n",
        "    return tf.nn.conv2d(x, K, strides=[1, k, k, 1], padding='SAME')\n",
        "\n",
        "def maxpool2d(x, k=1):\n",
        "# MaxPool2D wrapper\n",
        "    return tf.nn.max_pool(x, ksize=2, strides=[1, k, k, 3],\n",
        "    padding='SAME')\n",
        "\n",
        "def softmax(x):\n",
        "    return tf.nn.softmax(x)\n",
        "\n",
        "def dropout(x):\n",
        "    return tf.nn.dropout(x, rate = 0.2).numpy()"
      ],
      "execution_count": null,
      "outputs": []
    },
    {
      "cell_type": "code",
      "metadata": {
        "id": "uLZNPLVq9msS"
      },
      "source": [
        "im=Image.open('image9001.png')\n",
        "pil_img = tf.keras.preprocessing.image.img_to_array(im)\n",
        "im"
      ],
      "execution_count": null,
      "outputs": []
    },
    {
      "cell_type": "code",
      "metadata": {
        "id": "Lj6YCIhj6LW1"
      },
      "source": [
        "im=Image.open('image9001.png')\n",
        "pil_img = tf.keras.preprocessing.image.img_to_array(im)\n",
        "x=pil_img \n",
        "x = tf.reshape(x, [1, 28, 28, 1])\n",
        "L=dropout(x)\n",
        "L = tf.reshape(L, [28, 28, 1])\n",
        "pil_img = tf.keras.preprocessing.image.array_to_img(L)\n",
        "pil_img\n"
      ],
      "execution_count": null,
      "outputs": []
    },
    {
      "cell_type": "code",
      "metadata": {
        "id": "kUvsaMX0G7sU"
      },
      "source": [
        "L"
      ],
      "execution_count": null,
      "outputs": []
    },
    {
      "cell_type": "code",
      "metadata": {
        "id": "myXolmZIEg0s"
      },
      "source": [
        "x_in = np.array([[\n",
        "  [[2], [1], [2], [0], [1]],\n",
        "  [[1], [3], [2], [2], [3]],\n",
        "  [[1], [1], [3], [3], [0]],\n",
        "  [[2], [2], [0], [1], [1]],\n",
        "  [[0], [0], [3], [1], [2]], ]])\n",
        "kernel_in = np.array([\n",
        " [ [[0]], [[0]] ],\n",
        " [ [[0]],[[1]] ], ])\n",
        "x = tf.constant(x_in, dtype=tf.float32)\n",
        "kernel = tf.constant(kernel_in, dtype=tf.float32)\n",
        "tf.nn.conv2d(x, kernel, strides=[1, 1, 1, 1], padding='VALID')\n",
        "\n"
      ],
      "execution_count": null,
      "outputs": []
    },
    {
      "cell_type": "code",
      "metadata": {
        "id": "cmnjr5D2FzRv"
      },
      "source": [
        "kernel_in.shape"
      ],
      "execution_count": null,
      "outputs": []
    },
    {
      "cell_type": "code",
      "metadata": {
        "id": "iUepoEfwFzpA"
      },
      "source": [
        "x_in.shape"
      ],
      "execution_count": null,
      "outputs": []
    }
  ]
}