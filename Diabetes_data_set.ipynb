{
  "nbformat": 4,
  "nbformat_minor": 0,
  "metadata": {
    "colab": {
      "name": "Diabetes_data_set.ipynb",
      "private_outputs": true,
      "provenance": [],
      "authorship_tag": "ABX9TyPg/Nezv0+hX3g8J2URNfX/",
      "include_colab_link": true
    },
    "kernelspec": {
      "name": "python3",
      "display_name": "Python 3"
    },
    "language_info": {
      "name": "python"
    }
  },
  "cells": [
    {
      "cell_type": "markdown",
      "metadata": {
        "id": "view-in-github",
        "colab_type": "text"
      },
      "source": [
        "<a href=\"https://colab.research.google.com/github/ArefPhD/General-training/blob/main/Diabetes_data_set.ipynb\" target=\"_parent\"><img src=\"https://colab.research.google.com/assets/colab-badge.svg\" alt=\"Open In Colab\"/></a>"
      ]
    },
    {
      "cell_type": "code",
      "metadata": {
        "id": "5cQJIjWZnDYN"
      },
      "source": [
        "import pandas as pd"
      ],
      "execution_count": null,
      "outputs": []
    },
    {
      "cell_type": "markdown",
      "metadata": {
        "id": "r-gLagqK8C_d"
      },
      "source": [
        "access the dataset @ https://www.kaggle.com/uciml/pima-indians-diabetes-database"
      ]
    },
    {
      "cell_type": "markdown",
      "metadata": {
        "id": "SsFCnX408J0B"
      },
      "source": [
        "Download the dataset manually then upload it via following link"
      ]
    },
    {
      "cell_type": "code",
      "metadata": {
        "id": "tB_VkRjEjcpf"
      },
      "source": [
        "from google.colab import files\n",
        "uploaded = files.upload()\n"
      ],
      "execution_count": null,
      "outputs": []
    },
    {
      "cell_type": "code",
      "metadata": {
        "id": "0DUFbDGcm64N"
      },
      "source": [
        "df = pd.read_csv('diabetes (1).csv')\n",
        "\n",
        "df.head(10)\n"
      ],
      "execution_count": null,
      "outputs": []
    },
    {
      "cell_type": "code",
      "metadata": {
        "id": "_4BTLwe_ng_c"
      },
      "source": [
        "\n",
        "S=df.drop(columns='Outcome')\n"
      ],
      "execution_count": null,
      "outputs": []
    },
    {
      "cell_type": "code",
      "metadata": {
        "id": "2ECyMXi1oirW"
      },
      "source": [
        "X=S.iloc[:]"
      ],
      "execution_count": null,
      "outputs": []
    },
    {
      "cell_type": "code",
      "metadata": {
        "id": "jCy9Q8AKolPf"
      },
      "source": [
        "print(S.iloc[1])"
      ],
      "execution_count": null,
      "outputs": []
    },
    {
      "cell_type": "code",
      "metadata": {
        "id": "Tjv5jrvv4TqF"
      },
      "source": [
        "y =df['Outcome'].iloc[:]"
      ],
      "execution_count": null,
      "outputs": []
    },
    {
      "cell_type": "code",
      "metadata": {
        "id": "A4ZSCjb_5g2j"
      },
      "source": [
        "print(y)"
      ],
      "execution_count": null,
      "outputs": []
    },
    {
      "cell_type": "code",
      "metadata": {
        "id": "9dnwLN9erX4S"
      },
      "source": [
        "from keras.models import Sequential\n",
        "from keras.layers import Dense\n",
        "# load the dataset\n",
        "# split into input (X) and output (y) variables\n",
        "\n",
        "# define the keras model\n",
        "model = Sequential()\n",
        "model.add(Dense(12, input_dim=8, activation='relu'))\n",
        "model.add(Dense(8, activation='relu'))\n",
        "model.add(Dense(1, activation='sigmoid'))\n",
        "# compile the keras model\n",
        "model.compile(loss='binary_crossentropy', optimizer='adam', metrics=['accuracy'])\n",
        "# fit the keras model on the dataset\n",
        "model.fit(X, y, epochs=150, batch_size=10, verbose=0)\n",
        "# make class predictions with the model\n",
        "predictions = (model.predict(X) > 0.5).astype(\"int32\")\n",
        "# summarize the first 5 cases\n",
        "\n"
      ],
      "execution_count": null,
      "outputs": []
    },
    {
      "cell_type": "code",
      "metadata": {
        "id": "xByrqx4dsSHq"
      },
      "source": [
        "predictions[1]"
      ],
      "execution_count": null,
      "outputs": []
    },
    {
      "cell_type": "code",
      "metadata": {
        "id": "NsG1oI1b7hY8"
      },
      "source": [
        "s=0"
      ],
      "execution_count": null,
      "outputs": []
    },
    {
      "cell_type": "code",
      "metadata": {
        "id": "9H2YAhVg6xdG"
      },
      "source": [
        "for i in range(len(predictions)):\n",
        "\t#print(predictions[i], y[i])\n",
        "  if predictions[i]==y[i]:\n",
        "     s+=1"
      ],
      "execution_count": null,
      "outputs": []
    },
    {
      "cell_type": "markdown",
      "metadata": {
        "id": "_O4CtwRo763v"
      },
      "source": [
        "Gauging accuracy"
      ]
    },
    {
      "cell_type": "code",
      "metadata": {
        "id": "ImCOy3VQ7wFK"
      },
      "source": [
        "print(s/len(predictions))"
      ],
      "execution_count": null,
      "outputs": []
    },
    {
      "cell_type": "code",
      "metadata": {
        "id": "czmvvuCR8Q1g"
      },
      "source": [
        "M=S.iloc[1]\n",
        "print(M.shape)"
      ],
      "execution_count": null,
      "outputs": []
    },
    {
      "cell_type": "markdown",
      "metadata": {
        "id": "_wCfdxSp8sOz"
      },
      "source": [
        "If we assume that age of the data on the column above was 64 instead of 31 would the person more suspetible to having diabete or not"
      ]
    },
    {
      "cell_type": "code",
      "metadata": {
        "id": "Zmk0Isrt_kXO"
      },
      "source": [
        "X.iloc[0] = {'Pregnancies': 6, 'Glucose': 148, 'BloodPressure': 72, 'Skinthickness': 35, 'Insluin': 0, 'BMI': 33.6, 'DiabetesPedigreeFunction': 0.627, 'Age': 64  }"
      ],
      "execution_count": null,
      "outputs": []
    },
    {
      "cell_type": "code",
      "metadata": {
        "id": "EpEzKf1n-VH9"
      },
      "source": [
        "print(X)"
      ],
      "execution_count": null,
      "outputs": []
    },
    {
      "cell_type": "code",
      "metadata": {
        "id": "NsaTbej-CRCK"
      },
      "source": [
        "type(X)\n"
      ],
      "execution_count": null,
      "outputs": []
    }
  ]
}