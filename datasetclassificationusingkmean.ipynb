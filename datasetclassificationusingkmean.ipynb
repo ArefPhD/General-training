{
  "nbformat": 4,
  "nbformat_minor": 0,
  "metadata": {
    "colab": {
      "name": "datasetclassificationusingkmean.ipynb",
      "private_outputs": true,
      "provenance": [],
      "authorship_tag": "ABX9TyPm1XvXp+Xnmy6GdDpNlpi4",
      "include_colab_link": true
    },
    "kernelspec": {
      "name": "python3",
      "display_name": "Python 3"
    },
    "language_info": {
      "name": "python"
    }
  },
  "cells": [
    {
      "cell_type": "markdown",
      "metadata": {
        "id": "view-in-github",
        "colab_type": "text"
      },
      "source": [
        "<a href=\"https://colab.research.google.com/github/ArefPhD/General-training/blob/main/datasetclassificationusingkmean.ipynb\" target=\"_parent\"><img src=\"https://colab.research.google.com/assets/colab-badge.svg\" alt=\"Open In Colab\"/></a>"
      ]
    },
    {
      "cell_type": "code",
      "metadata": {
        "id": "cWFACNaic1MU"
      },
      "source": [
        "import pandas as pd\n",
        "import tensorflow as tf"
      ],
      "execution_count": null,
      "outputs": []
    },
    {
      "cell_type": "code",
      "metadata": {
        "id": "nI36DJNjc2-2"
      },
      "source": [
        "csv_file = tf.keras.utils.get_file('heart.csv', 'https://storage.googleapis.com/download.tensorflow.org/data/heart.csv')\n"
      ],
      "execution_count": null,
      "outputs": []
    },
    {
      "cell_type": "code",
      "metadata": {
        "id": "zCD7r-G6dCHv"
      },
      "source": [
        "df = pd.read_csv(csv_file)\n"
      ],
      "execution_count": null,
      "outputs": []
    },
    {
      "cell_type": "code",
      "metadata": {
        "id": "Oy00ZBaSBBiE"
      },
      "source": [
        "index = df.index\n",
        "print(index)"
      ],
      "execution_count": null,
      "outputs": []
    },
    {
      "cell_type": "code",
      "metadata": {
        "id": "9pOzr1w3dFD5"
      },
      "source": [
        "df.head(304)"
      ],
      "execution_count": null,
      "outputs": []
    },
    {
      "cell_type": "code",
      "metadata": {
        "id": "HbvtrlMXBLnu"
      },
      "source": [
        "df=df.drop(columns='thal')"
      ],
      "execution_count": null,
      "outputs": []
    },
    {
      "cell_type": "code",
      "metadata": {
        "id": "gCg4dCf5CXw6"
      },
      "source": [
        "kmeans.labels_=df['target'].iloc[:]\n",
        "S=df\n",
        "S=S.drop(columns='target')\n"
      ],
      "execution_count": null,
      "outputs": []
    },
    {
      "cell_type": "code",
      "metadata": {
        "id": "GspWSfSvEEnF"
      },
      "source": [
        "X=S.iloc[:]\n"
      ],
      "execution_count": null,
      "outputs": []
    },
    {
      "cell_type": "code",
      "metadata": {
        "id": "zK0XznOKDYG2"
      },
      "source": [
        "print(S.iloc[0])"
      ],
      "execution_count": null,
      "outputs": []
    },
    {
      "cell_type": "code",
      "metadata": {
        "id": "JvvgBqlQAwrH"
      },
      "source": [
        "from sklearn.cluster import KMeans\n",
        "import numpy as np\n",
        "# = np.array([[0.2351, 0.4016], [-0.1746, -0.1916], [0.3057,  -0.9394],\n",
        " #             [0.5590,  0.6353], [-0.66,  -0.1175]])\n",
        "kmeans = KMeans(n_clusters=2, random_state=0).fit(X)\n",
        "#kmeans.labels_=np.array([[1], [1], [0],\n",
        " #             [0], [0]])\n",
        "\n",
        "kmeans.predict([S.iloc[1]])\n",
        "\n",
        "kmeans.cluster_centers_\n",
        "print(kmeans.predict([S.iloc[1]]))\n"
      ],
      "execution_count": null,
      "outputs": []
    }
  ]
}