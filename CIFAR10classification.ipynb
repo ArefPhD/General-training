{
  "nbformat": 4,
  "nbformat_minor": 0,
  "metadata": {
    "colab": {
      "name": "Untitled60.ipynb",
      "private_outputs": true,
      "provenance": [],
      "authorship_tag": "ABX9TyNOj20v83FgvLn0imXpvkr2",
      "include_colab_link": true
    },
    "kernelspec": {
      "name": "python3",
      "display_name": "Python 3"
    },
    "language_info": {
      "name": "python"
    }
  },
  "cells": [
    {
      "cell_type": "markdown",
      "metadata": {
        "id": "view-in-github",
        "colab_type": "text"
      },
      "source": [
        "<a href=\"https://colab.research.google.com/github/ArefPhD/General-training/blob/main/CIFAR10classification.ipynb\" target=\"_parent\"><img src=\"https://colab.research.google.com/assets/colab-badge.svg\" alt=\"Open In Colab\"/></a>"
      ]
    },
    {
      "cell_type": "code",
      "metadata": {
        "id": "F2Z_3RBGbCmu"
      },
      "source": [
        "import tensorflow as tf"
      ],
      "execution_count": null,
      "outputs": []
    },
    {
      "cell_type": "code",
      "metadata": {
        "id": "iPqusuLZbHd6"
      },
      "source": [
        "from tensorflow import keras\n",
        "import tensorflow as tf\n",
        "from tensorflow.keras import datasets, layers, models\n",
        "import matplotlib.pyplot as plt\n",
        "import numpy as np"
      ],
      "execution_count": null,
      "outputs": []
    },
    {
      "cell_type": "code",
      "metadata": {
        "id": "qOtbC8gva-gf"
      },
      "source": [
        "tf.keras.datasets.cifar10.load_data()\n",
        "(x_train, y_train), (x_test, y_test) = keras.datasets.cifar10.load_data()\n",
        "\n"
      ],
      "execution_count": null,
      "outputs": []
    },
    {
      "cell_type": "code",
      "metadata": {
        "id": "9isKDsdkb_vO"
      },
      "source": [
        "x_train = x_train/255\n",
        "x_test = x_test/255"
      ],
      "execution_count": null,
      "outputs": []
    },
    {
      "cell_type": "code",
      "metadata": {
        "id": "8wqvNpg3bM9t"
      },
      "source": [
        "ann=models.Sequential([layers.Flatten(input_shape=(32, 32, 3)),\n",
        "                      layers.Dense(3000, activation='relu'),\n",
        "                      layers.Dense(1000, activation='relu'),\n",
        "                      layers.Dense(10, activation='sigmoid')])"
      ],
      "execution_count": null,
      "outputs": []
    },
    {
      "cell_type": "code",
      "metadata": {
        "id": "bA88_jlLchwP"
      },
      "source": [
        "ann.compile(optimizer='SGD',\n",
        "            loss='sparse_categorical_crossentropy', metrics=['accuracy'])"
      ],
      "execution_count": null,
      "outputs": []
    },
    {
      "cell_type": "code",
      "metadata": {
        "id": "VmhUtOsMc44b"
      },
      "source": [
        "x_train.shape"
      ],
      "execution_count": null,
      "outputs": []
    },
    {
      "cell_type": "code",
      "metadata": {
        "id": "t7fYcn7sctqc"
      },
      "source": [
        "ann.fit(x_train, y_train, epochs=10)"
      ],
      "execution_count": null,
      "outputs": []
    },
    {
      "cell_type": "code",
      "metadata": {
        "id": "JeP6CQl0jnG1"
      },
      "source": [
        "from keras import backend as K\n"
      ],
      "execution_count": null,
      "outputs": []
    },
    {
      "cell_type": "code",
      "metadata": {
        "id": "NYXwH7t4jcAl"
      },
      "source": [
        "S=x_train[210]\n",
        "S.shape\n",
        "L=tf.reshape(S, [32, 32, 3])\n",
        "L = K.eval(L)\n",
        "pil_img = tf.keras.preprocessing.image.array_to_img(L)\n",
        "pil_img"
      ],
      "execution_count": null,
      "outputs": []
    },
    {
      "cell_type": "code",
      "metadata": {
        "id": "Xkt1ujWtjdOm"
      },
      "source": [
        "y_train[210]\n"
      ],
      "execution_count": null,
      "outputs": []
    },
    {
      "cell_type": "code",
      "metadata": {
        "id": "xnRZg4LDjfy8"
      },
      "source": [
        "import numpy as np\n"
      ],
      "execution_count": null,
      "outputs": []
    },
    {
      "cell_type": "code",
      "metadata": {
        "id": "DaoPQjvOjhQG"
      },
      "source": [
        "S=x_train[210]\n",
        "S.shape\n",
        "L=tf.reshape(S, [32, 32, 3])\n",
        "L= K.eval(L)\n",
        "np.argmax(model.predict(L))"
      ],
      "execution_count": null,
      "outputs": []
    },
    {
      "cell_type": "code",
      "metadata": {
        "id": "NkQRa7S9kcvz"
      },
      "source": [
        "x_train[210].shape"
      ],
      "execution_count": null,
      "outputs": []
    },
    {
      "cell_type": "code",
      "metadata": {
        "id": "zR8-hBwnkPh4"
      },
      "source": [
        "from sklearn.metrics import confusion_matrix , classification_report\n",
        "import numpy as np\n",
        "y_pred = model.output(x_train[210])\n"
      ],
      "execution_count": null,
      "outputs": []
    }
  ]
}