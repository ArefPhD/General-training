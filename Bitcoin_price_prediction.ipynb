{
  "nbformat": 4,
  "nbformat_minor": 0,
  "metadata": {
    "colab": {
      "name": "Bitcoin_price_prediction.ipynb",
      "private_outputs": true,
      "provenance": [],
      "authorship_tag": "ABX9TyNFnYg5uzzEPJFBtMb0cUGW",
      "include_colab_link": true
    },
    "kernelspec": {
      "name": "python3",
      "display_name": "Python 3"
    },
    "language_info": {
      "name": "python"
    }
  },
  "cells": [
    {
      "cell_type": "markdown",
      "metadata": {
        "id": "view-in-github",
        "colab_type": "text"
      },
      "source": [
        "<a href=\"https://colab.research.google.com/github/ArefPhD/General-training/blob/main/Bitcoin_price_prediction.ipynb\" target=\"_parent\"><img src=\"https://colab.research.google.com/assets/colab-badge.svg\" alt=\"Open In Colab\"/></a>"
      ]
    },
    {
      "cell_type": "code",
      "metadata": {
        "id": "cPr9UMsSy8Fk"
      },
      "source": [
        "import pandas as pd\n",
        "\n",
        "dataset_test = pd.read_csv('https://raw.githubusercontent.com/TatevKaren/recurrent-neural-network-pricing-model/main/bitcoin_data/Bitcoin_Stock_Price_Testset.csv')\n",
        "dataset_test.head(1000)"
      ],
      "execution_count": null,
      "outputs": []
    },
    {
      "cell_type": "code",
      "metadata": {
        "id": "9BhyYxSwz0-t"
      },
      "source": [
        "dataset_train = pd.read_csv('https://raw.githubusercontent.com/TatevKaren/recurrent-neural-network-pricing-model/main/bitcoin_data/Bitcoin_Stock_Price_Trainset.csv')\n",
        "dataset_train.head()"
      ],
      "execution_count": null,
      "outputs": []
    },
    {
      "cell_type": "code",
      "metadata": {
        "id": "xPD0BnuPygLi"
      },
      "source": [
        "import numpy as np\n",
        "import pandas as pd\n",
        "from sklearn.preprocessing import MinMaxScaler\n",
        "import matplotlib.pyplot as plt\n",
        "\n",
        "from keras.models import Sequential\n",
        "from keras.layers import Dense\n",
        "from keras.layers import LSTM\n",
        "from keras.layers import Dropout\n",
        "import tensorflow as tf\n",
        "\n",
        "#--------------------- Data Preprocessing --------------------#\n",
        "# Importing and scaling the data\n",
        "#selecting the right column (we need all rows and column 1) : numpy array\n",
        "training_set = dataset_train.iloc[:,1:2].values\n",
        "print(training_set)\n",
        "\n",
        "# Feature scaling\n",
        "sc = MinMaxScaler(feature_range=(0,1))\n",
        "training_set_scaled = sc.fit_transform(training_set)\n",
        "#print(training_set_scaled[0,:])\n",
        "\n",
        "#creating a data structure with 60 timesteps and 1 output\n",
        "X_train = []\n",
        "y_train = []\n",
        "\n",
        "for i in range(90,training_set_scaled.size):\n",
        "    # appending the 60 previous stock prices to the list for i\n",
        "    # we need to specify the rows and simply pick the first and only column\n",
        "    X_train.append(training_set_scaled[i-90:i, 0])\n",
        "    # appending the 60th stock price to the list for i\n",
        "    y_train.append(training_set_scaled[i, 0])\n",
        "# transforming pandas lists to numpy arrays required for the RNN\n",
        "X_train, y_train = np.array(X_train), np.array(y_train)\n",
        "#print(X_train)\n",
        "\n",
        "\n",
        "# Shaping/adding new dimensions to allow adding more indicators: from 2D to 3D\n",
        "# 3 input arguments\n",
        "# batch_size: number of observations\n",
        "# timesteps: number of columns\n",
        "# input_dim: number of predictors\n",
        "X_train = np.reshape(X_train, [X_train.shape[0], X_train.shape[1], 1])\n",
        "#print(X_train)\n",
        "\n",
        "\n",
        "#--------------------- Building RNN/LSTM model --------------------#\n",
        "#Initializing the RNN\n",
        "\n",
        "# independent variable is a sequence of layers: regression and no classification given the continuous output value\n",
        "regressor = Sequential()\n",
        "#------------------------------------------------------------------#\n",
        "# Adding the first LSTM layer\n",
        "#------------------------------------------------------------------#\n",
        "\n",
        "# 3 inputs\n",
        "# number of memory/LSTM units or neurons in each LSTM\n",
        "# binary vb to indicate whether there will be further layers of LSTM added to teh model\n",
        "# input shape (automatically takes teh first dimension so the reamining only needs to be specified)\n",
        "print(X_train.shape[1])\n",
        "regressor.add(LSTM(units = 50, return_sequences=True, input_shape = (X_train.shape[1], 1)))\n",
        "\n",
        "# adding Dropout regularization layers\n",
        "# 1 input: amount of neurons to ignore in the layers\n",
        "regressor.add(Dropout(0.2))\n",
        "\n",
        "#------------------------------------------------------------------#\n",
        "# Adding the second LSTM layer\n",
        "#------------------------------------------------------------------#\n",
        "# no input shape needed given that that is specified in the previous layer\n",
        "regressor.add(LSTM(units = 50, return_sequences=True))\n",
        "regressor.add(Dropout(0.2))\n",
        "\n",
        "#------------------------------------------------------------------#\n",
        "# Adding the third LSTM layer\n",
        "#------------------------------------------------------------------#\n",
        "regressor.add(LSTM(units = 50, return_sequences=True))\n",
        "regressor.add(Dropout(0.2))\n",
        "\n",
        "#------------------------------------------------------------------#\n",
        "# Adding the forth LSTM layer\n",
        "#------------------------------------------------------------------#\n",
        "regressor.add(LSTM(units = 50, return_sequences=True))\n",
        "regressor.add(Dropout(0.2))\n",
        "\n",
        "#------------------------------------------------------------------#\n",
        "# Adding the fifth LSTM layer\n",
        "#------------------------------------------------------------------#\n",
        "# note that this is the final LSTM layer, hence we change the binary argument to False\n",
        "regressor.add(LSTM(units = 50))\n",
        "regressor.add(Dropout(0.2))\n",
        "\n",
        "#------------------------------------------------------------------#\n",
        "# Adding output layer to the RNN to make a fully connected NN\n",
        "#------------------------------------------------------------------#\n",
        "# one dimensional real output\n",
        "regressor.add(Dense(units = 1))\n",
        "\n",
        "\n",
        "#--------------------- Compiling the RNN model --------------------#\n",
        "regressor.compile(optimizer = 'adam', loss = 'mean_squared_error')\n",
        "\n",
        "#--------------------- Training RNN model --------------------#\n",
        "#connecting the built regressor to the training model\n",
        "regressor.fit(X_train, y_train, epochs = 120, batch_size = 32)\n",
        "#\n",
        "#--------------------- Testing RNN model --------------------#\n",
        "# actual stock prices\n"
      ],
      "execution_count": null,
      "outputs": []
    },
    {
      "cell_type": "code",
      "metadata": {
        "id": "sHgzKo6uCxYm"
      },
      "source": [
        "import pandas as pd\n",
        "\n",
        "dataset_test = pd.read_csv('https://raw.githubusercontent.com/TatevKaren/recurrent-neural-network-pricing-model/main/bitcoin_data/Bitcoin_Stock_Price_Testset.csv')\n",
        "dataset_test.head()"
      ],
      "execution_count": null,
      "outputs": []
    },
    {
      "cell_type": "code",
      "metadata": {
        "id": "Hz8ArDZACt2a"
      },
      "source": [
        "real_stock_price = dataset_test.iloc[:,1:2].values\n",
        "# predicting the stock prices using X_test\n",
        "# we need the original training data (vertical concatination 0, horizontal 1)\n",
        "dataset_total = pd.concat((dataset_train['Open'], dataset_test['Open']), axis = 0)\n",
        "print(real_stock_price)\n",
        "\n",
        "# for the consistence of the model we need to have the same scaling on the test as on the training\n",
        "# for the first test day we need the previous 60 days data from train\n",
        "print(\"First Financial day in 2021, when testing period begins\",len(dataset_total)- len(dataset_test))\n",
        "print(\"First Financial day in 2021 minus 60 days\",len(dataset_total)- len(dataset_test) - 90)\n",
        "inputs = dataset_total[len(dataset_total) - len(dataset_test) - 90:].values\n",
        "\n",
        "# reshaping,normalizing the inputs\n",
        "inputs = inputs.reshape(-1,1)\n",
        "# no longer fitting but just transforming\n",
        "inputs = sc.transform(inputs)\n",
        "\n",
        "\n",
        "#storing test data as we did in teh training\n",
        "X_test = []\n",
        "for i in range(200,inputs.size):\n",
        "    X_test.append(inputs[i-90:i, 0])\n",
        "X_test = np.array(X_test)\n",
        "#adding extra dimension\n",
        "X_test = np.reshape(X_test, [X_test.shape[0], X_test.shape[1], 1])\n",
        "\n",
        "#obtaining predicted values\n",
        "predicted_stock_price = regressor.predict(X_test)\n",
        "predicted_stock_price = sc.inverse_transform(predicted_stock_price)\n",
        "\n",
        "#--------------------- Visualizing the RNN model results--------------------#\n",
        "plt.plot(real_stock_price, color = '#ffd700', label = \"Real Price January - March 2021\")\n",
        "plt.plot(predicted_stock_price, color = '#4782B4', label = \"Predicted Price January - March 2021\")\n",
        "plt.title(\"Bitcoin Price Prediction\")\n",
        "plt.xlabel(\"Time\")\n",
        "plt.ylabel(\"Bitcoin Price\")\n",
        "plt.legend()\n",
        "plt.show()\n"
      ],
      "execution_count": null,
      "outputs": []
    }
  ]
}