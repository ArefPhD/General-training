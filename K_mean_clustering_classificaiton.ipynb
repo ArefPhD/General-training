{
  "nbformat": 4,
  "nbformat_minor": 0,
  "metadata": {
    "colab": {
      "name": "K mean clustering classificaiton.ipynb",
      "private_outputs": true,
      "provenance": [],
      "authorship_tag": "ABX9TyPR+qc5lmMlOsfS2wEVdo32",
      "include_colab_link": true
    },
    "kernelspec": {
      "name": "python3",
      "display_name": "Python 3"
    },
    "language_info": {
      "name": "python"
    }
  },
  "cells": [
    {
      "cell_type": "markdown",
      "metadata": {
        "id": "view-in-github",
        "colab_type": "text"
      },
      "source": [
        "<a href=\"https://colab.research.google.com/github/ArefPhD/General-training/blob/main/K_mean_clustering_classificaiton.ipynb\" target=\"_parent\"><img src=\"https://colab.research.google.com/assets/colab-badge.svg\" alt=\"Open In Colab\"/></a>"
      ]
    },
    {
      "cell_type": "code",
      "metadata": {
        "id": "PLMdU6d8pVVB"
      },
      "source": [
        "from sklearn.cluster import KMeans\n",
        "import numpy as np\n",
        "X = np.array([[0.2351, 0.4016], [-0.1746,\t-0.1916], [0.3057,\t-0.9394],\n",
        "              [0.5590,\t0.6353], [-0.66,\t-0.1175]])\n",
        "kmeans = KMeans(n_clusters=2, random_state=0).fit(X)\n",
        "kmeans.labels_=np.array([[1], [1], [0],\n",
        "              [0], [0]])\n",
        "\n",
        "kmeans.predict([[0.5, 0.5]])\n",
        "\n",
        "kmeans.cluster_centers_\n",
        "print(kmeans.predict([[0.5, 0.5]]))"
      ],
      "execution_count": null,
      "outputs": []
    }
  ]
}