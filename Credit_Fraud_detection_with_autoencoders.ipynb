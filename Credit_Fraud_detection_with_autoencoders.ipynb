{
  "nbformat": 4,
  "nbformat_minor": 0,
  "metadata": {
    "colab": {
      "name": "Credit Fraud detection with autoencoders.ipynb",
      "provenance": [],
      "collapsed_sections": [],
      "toc_visible": true,
      "include_colab_link": true
    },
    "kernelspec": {
      "name": "python3",
      "display_name": "Python 3"
    }
  },
  "cells": [
    {
      "cell_type": "markdown",
      "metadata": {
        "id": "view-in-github",
        "colab_type": "text"
      },
      "source": [
        "<a href=\"https://colab.research.google.com/github/ArefPhD/General-training/blob/main/Credit_Fraud_detection_with_autoencoders.ipynb\" target=\"_parent\"><img src=\"https://colab.research.google.com/assets/colab-badge.svg\" alt=\"Open In Colab\"/></a>"
      ]
    },
    {
      "cell_type": "markdown",
      "metadata": {
        "id": "iEl3ncgPc0sv"
      },
      "source": [
        "\n",
        "#Credit Card Fraud Detection\n",
        "\n",
        "Example of outlier detection with autoencoders. Dataset https://www.kaggle.com/mlg-ulb/creditcardfraud from Machine Learning Group (http://mlg.ulb.ac.be) of ULB (Université Libre de Bruxelles).\n",
        "\n",
        "It is a highly unbalanced dataset with a very low percetnage of fraudulent credit card transactions. Our purpose is to build a classifier for detecting fraudulent transactions. In this example we will consider them as outliers an will use an autoencoder for detecting them.\n",
        "\n",
        "##Downloading of dataset\n"
      ]
    },
    {
      "cell_type": "code",
      "metadata": {
        "id": "gT2psZNVvB9U",
        "colab": {
          "base_uri": "https://localhost:8080/"
        },
        "outputId": "9b780d3f-1959-404f-8a85-94c7cccbf01d"
      },
      "source": [
        "!wget -O creditfraud.zip https://www.dropbox.com/s/tl20yp9bcl56oxt/creditcardfraud.zip?dl=0"
      ],
      "execution_count": 1,
      "outputs": [
        {
          "output_type": "stream",
          "text": [
            "--2021-06-18 22:09:40--  https://www.dropbox.com/s/tl20yp9bcl56oxt/creditcardfraud.zip?dl=0\n",
            "Resolving www.dropbox.com (www.dropbox.com)... 162.125.5.18, 2620:100:601d:18::a27d:512\n",
            "Connecting to www.dropbox.com (www.dropbox.com)|162.125.5.18|:443... connected.\n",
            "HTTP request sent, awaiting response... 301 Moved Permanently\n",
            "Location: /s/raw/tl20yp9bcl56oxt/creditcardfraud.zip [following]\n",
            "--2021-06-18 22:09:41--  https://www.dropbox.com/s/raw/tl20yp9bcl56oxt/creditcardfraud.zip\n",
            "Reusing existing connection to www.dropbox.com:443.\n",
            "HTTP request sent, awaiting response... 302 Found\n",
            "Location: https://ucb52ff7ce7a491629a91c5e75fd.dl.dropboxusercontent.com/cd/0/inline/BQqvBSGNxYD_6908fKpu4UEXgw2wTWqkt6n9oYRD7r3lLnXAPUzj5x7uwv3hf9c1d8kH5fwA1xcU3njEaMdxaGSTjur7q3fxvXikcZiy8O7OtlmA0vs01isoMZeRqDid1GidSEwt70qrnXYiSbwBwOxl/file# [following]\n",
            "--2021-06-18 22:09:41--  https://ucb52ff7ce7a491629a91c5e75fd.dl.dropboxusercontent.com/cd/0/inline/BQqvBSGNxYD_6908fKpu4UEXgw2wTWqkt6n9oYRD7r3lLnXAPUzj5x7uwv3hf9c1d8kH5fwA1xcU3njEaMdxaGSTjur7q3fxvXikcZiy8O7OtlmA0vs01isoMZeRqDid1GidSEwt70qrnXYiSbwBwOxl/file\n",
            "Resolving ucb52ff7ce7a491629a91c5e75fd.dl.dropboxusercontent.com (ucb52ff7ce7a491629a91c5e75fd.dl.dropboxusercontent.com)... 162.125.5.15, 2620:100:601d:15::a27d:50f\n",
            "Connecting to ucb52ff7ce7a491629a91c5e75fd.dl.dropboxusercontent.com (ucb52ff7ce7a491629a91c5e75fd.dl.dropboxusercontent.com)|162.125.5.15|:443... connected.\n",
            "HTTP request sent, awaiting response... 302 Found\n",
            "Location: /cd/0/inline2/BQq3yREqIgnh8ucBpYkbWs2z3fVbPo1bYQsFnVx9n9qswuY046HQCYQCQ1E0CwuvjXdZXUdtncErrLCUb3CE6iHkH6eKJuH0Ygh1dFXrfZhQt1rVXJ7AGpBdtuLo6DY293kI5Y7ONjQ1y-ndVInSL4yB0RqYw8pcjCp3dtkSScFmosJhWqc1FLOZbwQkcQRh5qOkmxnFA4gx0ll6Ifjz4GyXrrpedYv6LxIC3lRnp0HJQ43RnNVAyFnupkmWhrrKWkGOAaaQsJ8vobiBrLQK_rHncAvrRTK-mxekG2Kpa9Kp-APRsjUVd7s0mHHBgHiKjQix6JSosbDuARYgzcoTsMDw2WZo4knP7YaRW4ufK0EEN_iiziAiqq0GAsIouRbIKLo/file [following]\n",
            "--2021-06-18 22:09:41--  https://ucb52ff7ce7a491629a91c5e75fd.dl.dropboxusercontent.com/cd/0/inline2/BQq3yREqIgnh8ucBpYkbWs2z3fVbPo1bYQsFnVx9n9qswuY046HQCYQCQ1E0CwuvjXdZXUdtncErrLCUb3CE6iHkH6eKJuH0Ygh1dFXrfZhQt1rVXJ7AGpBdtuLo6DY293kI5Y7ONjQ1y-ndVInSL4yB0RqYw8pcjCp3dtkSScFmosJhWqc1FLOZbwQkcQRh5qOkmxnFA4gx0ll6Ifjz4GyXrrpedYv6LxIC3lRnp0HJQ43RnNVAyFnupkmWhrrKWkGOAaaQsJ8vobiBrLQK_rHncAvrRTK-mxekG2Kpa9Kp-APRsjUVd7s0mHHBgHiKjQix6JSosbDuARYgzcoTsMDw2WZo4knP7YaRW4ufK0EEN_iiziAiqq0GAsIouRbIKLo/file\n",
            "Reusing existing connection to ucb52ff7ce7a491629a91c5e75fd.dl.dropboxusercontent.com:443.\n",
            "HTTP request sent, awaiting response... 200 OK\n",
            "Length: 69155672 (66M) [application/zip]\n",
            "Saving to: ‘creditfraud.zip’\n",
            "\n",
            "creditfraud.zip     100%[===================>]  65.95M  64.1MB/s    in 1.0s    \n",
            "\n",
            "2021-06-18 22:09:43 (64.1 MB/s) - ‘creditfraud.zip’ saved [69155672/69155672]\n",
            "\n"
          ],
          "name": "stdout"
        }
      ]
    },
    {
      "cell_type": "code",
      "metadata": {
        "id": "1xqM1qxSvD_b",
        "colab": {
          "base_uri": "https://localhost:8080/"
        },
        "outputId": "49458b4e-5cd9-46b4-a547-59de0ded83e6"
      },
      "source": [
        "!unzip creditfraud.zip"
      ],
      "execution_count": 2,
      "outputs": [
        {
          "output_type": "stream",
          "text": [
            "Archive:  creditfraud.zip\n",
            "  inflating: creditcard.csv          \n"
          ],
          "name": "stdout"
        }
      ]
    },
    {
      "cell_type": "markdown",
      "metadata": {
        "id": "3OV8v985dDi6"
      },
      "source": [
        "##Loading libraries"
      ]
    },
    {
      "cell_type": "code",
      "metadata": {
        "id": "C-vN7SvXvMs5"
      },
      "source": [
        "import pandas as pd\n",
        "import numpy as np\n",
        "import seaborn as sns\n",
        "import matplotlib.pyplot as plt \n",
        "import matplotlib.ticker as ticker\n",
        "from sklearn.model_selection import train_test_split\n",
        "from sklearn.linear_model import LogisticRegression\n",
        "from sklearn import metrics\n",
        "from sklearn.preprocessing import StandardScaler\n",
        "from keras.models import Model, load_model\n",
        "from keras.layers import Input, Dense"
      ],
      "execution_count": 3,
      "outputs": []
    },
    {
      "cell_type": "markdown",
      "metadata": {
        "id": "Fp9PNETFd2G4"
      },
      "source": [
        "##Loading dataset in Python and taking a first look"
      ]
    },
    {
      "cell_type": "code",
      "metadata": {
        "id": "NMVr2-hzvlID",
        "colab": {
          "base_uri": "https://localhost:8080/",
          "height": 222
        },
        "outputId": "5c952298-c976-4a08-dec9-b10a688451b1"
      },
      "source": [
        "dat=pd.read_csv('creditcard.csv')\n",
        "dat.head()"
      ],
      "execution_count": 4,
      "outputs": [
        {
          "output_type": "execute_result",
          "data": {
            "text/html": [
              "<div>\n",
              "<style scoped>\n",
              "    .dataframe tbody tr th:only-of-type {\n",
              "        vertical-align: middle;\n",
              "    }\n",
              "\n",
              "    .dataframe tbody tr th {\n",
              "        vertical-align: top;\n",
              "    }\n",
              "\n",
              "    .dataframe thead th {\n",
              "        text-align: right;\n",
              "    }\n",
              "</style>\n",
              "<table border=\"1\" class=\"dataframe\">\n",
              "  <thead>\n",
              "    <tr style=\"text-align: right;\">\n",
              "      <th></th>\n",
              "      <th>Time</th>\n",
              "      <th>V1</th>\n",
              "      <th>V2</th>\n",
              "      <th>V3</th>\n",
              "      <th>V4</th>\n",
              "      <th>V5</th>\n",
              "      <th>V6</th>\n",
              "      <th>V7</th>\n",
              "      <th>V8</th>\n",
              "      <th>V9</th>\n",
              "      <th>V10</th>\n",
              "      <th>V11</th>\n",
              "      <th>V12</th>\n",
              "      <th>V13</th>\n",
              "      <th>V14</th>\n",
              "      <th>V15</th>\n",
              "      <th>V16</th>\n",
              "      <th>V17</th>\n",
              "      <th>V18</th>\n",
              "      <th>V19</th>\n",
              "      <th>V20</th>\n",
              "      <th>V21</th>\n",
              "      <th>V22</th>\n",
              "      <th>V23</th>\n",
              "      <th>V24</th>\n",
              "      <th>V25</th>\n",
              "      <th>V26</th>\n",
              "      <th>V27</th>\n",
              "      <th>V28</th>\n",
              "      <th>Amount</th>\n",
              "      <th>Class</th>\n",
              "    </tr>\n",
              "  </thead>\n",
              "  <tbody>\n",
              "    <tr>\n",
              "      <th>0</th>\n",
              "      <td>0.0</td>\n",
              "      <td>-1.359807</td>\n",
              "      <td>-0.072781</td>\n",
              "      <td>2.536347</td>\n",
              "      <td>1.378155</td>\n",
              "      <td>-0.338321</td>\n",
              "      <td>0.462388</td>\n",
              "      <td>0.239599</td>\n",
              "      <td>0.098698</td>\n",
              "      <td>0.363787</td>\n",
              "      <td>0.090794</td>\n",
              "      <td>-0.551600</td>\n",
              "      <td>-0.617801</td>\n",
              "      <td>-0.991390</td>\n",
              "      <td>-0.311169</td>\n",
              "      <td>1.468177</td>\n",
              "      <td>-0.470401</td>\n",
              "      <td>0.207971</td>\n",
              "      <td>0.025791</td>\n",
              "      <td>0.403993</td>\n",
              "      <td>0.251412</td>\n",
              "      <td>-0.018307</td>\n",
              "      <td>0.277838</td>\n",
              "      <td>-0.110474</td>\n",
              "      <td>0.066928</td>\n",
              "      <td>0.128539</td>\n",
              "      <td>-0.189115</td>\n",
              "      <td>0.133558</td>\n",
              "      <td>-0.021053</td>\n",
              "      <td>149.62</td>\n",
              "      <td>0</td>\n",
              "    </tr>\n",
              "    <tr>\n",
              "      <th>1</th>\n",
              "      <td>0.0</td>\n",
              "      <td>1.191857</td>\n",
              "      <td>0.266151</td>\n",
              "      <td>0.166480</td>\n",
              "      <td>0.448154</td>\n",
              "      <td>0.060018</td>\n",
              "      <td>-0.082361</td>\n",
              "      <td>-0.078803</td>\n",
              "      <td>0.085102</td>\n",
              "      <td>-0.255425</td>\n",
              "      <td>-0.166974</td>\n",
              "      <td>1.612727</td>\n",
              "      <td>1.065235</td>\n",
              "      <td>0.489095</td>\n",
              "      <td>-0.143772</td>\n",
              "      <td>0.635558</td>\n",
              "      <td>0.463917</td>\n",
              "      <td>-0.114805</td>\n",
              "      <td>-0.183361</td>\n",
              "      <td>-0.145783</td>\n",
              "      <td>-0.069083</td>\n",
              "      <td>-0.225775</td>\n",
              "      <td>-0.638672</td>\n",
              "      <td>0.101288</td>\n",
              "      <td>-0.339846</td>\n",
              "      <td>0.167170</td>\n",
              "      <td>0.125895</td>\n",
              "      <td>-0.008983</td>\n",
              "      <td>0.014724</td>\n",
              "      <td>2.69</td>\n",
              "      <td>0</td>\n",
              "    </tr>\n",
              "    <tr>\n",
              "      <th>2</th>\n",
              "      <td>1.0</td>\n",
              "      <td>-1.358354</td>\n",
              "      <td>-1.340163</td>\n",
              "      <td>1.773209</td>\n",
              "      <td>0.379780</td>\n",
              "      <td>-0.503198</td>\n",
              "      <td>1.800499</td>\n",
              "      <td>0.791461</td>\n",
              "      <td>0.247676</td>\n",
              "      <td>-1.514654</td>\n",
              "      <td>0.207643</td>\n",
              "      <td>0.624501</td>\n",
              "      <td>0.066084</td>\n",
              "      <td>0.717293</td>\n",
              "      <td>-0.165946</td>\n",
              "      <td>2.345865</td>\n",
              "      <td>-2.890083</td>\n",
              "      <td>1.109969</td>\n",
              "      <td>-0.121359</td>\n",
              "      <td>-2.261857</td>\n",
              "      <td>0.524980</td>\n",
              "      <td>0.247998</td>\n",
              "      <td>0.771679</td>\n",
              "      <td>0.909412</td>\n",
              "      <td>-0.689281</td>\n",
              "      <td>-0.327642</td>\n",
              "      <td>-0.139097</td>\n",
              "      <td>-0.055353</td>\n",
              "      <td>-0.059752</td>\n",
              "      <td>378.66</td>\n",
              "      <td>0</td>\n",
              "    </tr>\n",
              "    <tr>\n",
              "      <th>3</th>\n",
              "      <td>1.0</td>\n",
              "      <td>-0.966272</td>\n",
              "      <td>-0.185226</td>\n",
              "      <td>1.792993</td>\n",
              "      <td>-0.863291</td>\n",
              "      <td>-0.010309</td>\n",
              "      <td>1.247203</td>\n",
              "      <td>0.237609</td>\n",
              "      <td>0.377436</td>\n",
              "      <td>-1.387024</td>\n",
              "      <td>-0.054952</td>\n",
              "      <td>-0.226487</td>\n",
              "      <td>0.178228</td>\n",
              "      <td>0.507757</td>\n",
              "      <td>-0.287924</td>\n",
              "      <td>-0.631418</td>\n",
              "      <td>-1.059647</td>\n",
              "      <td>-0.684093</td>\n",
              "      <td>1.965775</td>\n",
              "      <td>-1.232622</td>\n",
              "      <td>-0.208038</td>\n",
              "      <td>-0.108300</td>\n",
              "      <td>0.005274</td>\n",
              "      <td>-0.190321</td>\n",
              "      <td>-1.175575</td>\n",
              "      <td>0.647376</td>\n",
              "      <td>-0.221929</td>\n",
              "      <td>0.062723</td>\n",
              "      <td>0.061458</td>\n",
              "      <td>123.50</td>\n",
              "      <td>0</td>\n",
              "    </tr>\n",
              "    <tr>\n",
              "      <th>4</th>\n",
              "      <td>2.0</td>\n",
              "      <td>-1.158233</td>\n",
              "      <td>0.877737</td>\n",
              "      <td>1.548718</td>\n",
              "      <td>0.403034</td>\n",
              "      <td>-0.407193</td>\n",
              "      <td>0.095921</td>\n",
              "      <td>0.592941</td>\n",
              "      <td>-0.270533</td>\n",
              "      <td>0.817739</td>\n",
              "      <td>0.753074</td>\n",
              "      <td>-0.822843</td>\n",
              "      <td>0.538196</td>\n",
              "      <td>1.345852</td>\n",
              "      <td>-1.119670</td>\n",
              "      <td>0.175121</td>\n",
              "      <td>-0.451449</td>\n",
              "      <td>-0.237033</td>\n",
              "      <td>-0.038195</td>\n",
              "      <td>0.803487</td>\n",
              "      <td>0.408542</td>\n",
              "      <td>-0.009431</td>\n",
              "      <td>0.798278</td>\n",
              "      <td>-0.137458</td>\n",
              "      <td>0.141267</td>\n",
              "      <td>-0.206010</td>\n",
              "      <td>0.502292</td>\n",
              "      <td>0.219422</td>\n",
              "      <td>0.215153</td>\n",
              "      <td>69.99</td>\n",
              "      <td>0</td>\n",
              "    </tr>\n",
              "  </tbody>\n",
              "</table>\n",
              "</div>"
            ],
            "text/plain": [
              "   Time        V1        V2        V3  ...       V27       V28  Amount  Class\n",
              "0   0.0 -1.359807 -0.072781  2.536347  ...  0.133558 -0.021053  149.62      0\n",
              "1   0.0  1.191857  0.266151  0.166480  ... -0.008983  0.014724    2.69      0\n",
              "2   1.0 -1.358354 -1.340163  1.773209  ... -0.055353 -0.059752  378.66      0\n",
              "3   1.0 -0.966272 -0.185226  1.792993  ...  0.062723  0.061458  123.50      0\n",
              "4   2.0 -1.158233  0.877737  1.548718  ...  0.219422  0.215153   69.99      0\n",
              "\n",
              "[5 rows x 31 columns]"
            ]
          },
          "metadata": {
            "tags": []
          },
          "execution_count": 4
        }
      ]
    },
    {
      "cell_type": "markdown",
      "metadata": {
        "id": "5Y0a-xNMeDEA"
      },
      "source": [
        "The dataset is highly unbalanced with very few fraudulent credit cards"
      ]
    },
    {
      "cell_type": "code",
      "metadata": {
        "id": "l3TwIbGCvmz9",
        "colab": {
          "base_uri": "https://localhost:8080/"
        },
        "outputId": "dc6a60be-1994-4ddd-c888-30ed0ccbac79"
      },
      "source": [
        "dat['Class'].value_counts()/dat['Class'].count()"
      ],
      "execution_count": 5,
      "outputs": [
        {
          "output_type": "execute_result",
          "data": {
            "text/plain": [
              "0    0.998273\n",
              "1    0.001727\n",
              "Name: Class, dtype: float64"
            ]
          },
          "metadata": {
            "tags": []
          },
          "execution_count": 5
        }
      ]
    },
    {
      "cell_type": "code",
      "metadata": {
        "id": "L4KRErdPvt1A",
        "colab": {
          "base_uri": "https://localhost:8080/",
          "height": 296
        },
        "outputId": "6bd67e26-87a6-40a6-bde3-bd645b518ec4"
      },
      "source": [
        "sns.countplot(x='Class',data=dat)"
      ],
      "execution_count": 6,
      "outputs": [
        {
          "output_type": "execute_result",
          "data": {
            "text/plain": [
              "<matplotlib.axes._subplots.AxesSubplot at 0x7f1b898e4a90>"
            ]
          },
          "metadata": {
            "tags": []
          },
          "execution_count": 6
        },
        {
          "output_type": "display_data",
          "data": {
            "image/png": "[encoded data removed]",
            "text/plain": [
              "<Figure size 432x288 with 1 Axes>"
            ]
          },
          "metadata": {
            "tags": [],
            "needs_background": "light"
          }
        }
      ]
    },
    {
      "cell_type": "code",
      "metadata": {
        "id": "wDJt4sXDvxzb"
      },
      "source": [
        "dat = dat.drop([ 'Time'], 1)\n",
        "dat['Amount'] = StandardScaler().fit_transform(dat['Amount'].values.reshape(-1, 1))"
      ],
      "execution_count": 7,
      "outputs": []
    },
    {
      "cell_type": "markdown",
      "metadata": {
        "id": "2vTh-X3beLk_"
      },
      "source": [
        "Splitting into train and test datasets"
      ]
    },
    {
      "cell_type": "code",
      "metadata": {
        "id": "1T3X-3wFv001"
      },
      "source": [
        "X_train, X_test, y_train, y_test = train_test_split(dat.drop('Class',1) , dat['Class'], test_size=0.5, random_state=0)"
      ],
      "execution_count": 8,
      "outputs": []
    },
    {
      "cell_type": "code",
      "metadata": {
        "id": "ooXM9UEwv3QX",
        "colab": {
          "base_uri": "https://localhost:8080/"
        },
        "outputId": "18337903-51a9-419b-d898-baa4e1449815"
      },
      "source": [
        "y_test.value_counts()/y_test.count()"
      ],
      "execution_count": 9,
      "outputs": [
        {
          "output_type": "execute_result",
          "data": {
            "text/plain": [
              "0    0.998294\n",
              "1    0.001706\n",
              "Name: Class, dtype: float64"
            ]
          },
          "metadata": {
            "tags": []
          },
          "execution_count": 9
        }
      ]
    },
    {
      "cell_type": "code",
      "metadata": {
        "id": "K3YUftDjv5z-",
        "colab": {
          "base_uri": "https://localhost:8080/"
        },
        "outputId": "45fd0564-d28b-44fe-b1bf-6d5cad19cd2c"
      },
      "source": [
        "y_train.value_counts()/y_train.count()"
      ],
      "execution_count": 10,
      "outputs": [
        {
          "output_type": "execute_result",
          "data": {
            "text/plain": [
              "0    0.998251\n",
              "1    0.001749\n",
              "Name: Class, dtype: float64"
            ]
          },
          "metadata": {
            "tags": []
          },
          "execution_count": 10
        }
      ]
    },
    {
      "cell_type": "markdown",
      "metadata": {
        "id": "otvOl-HcevoG"
      },
      "source": [
        "##First method: using autoencoder's regression error"
      ]
    },
    {
      "cell_type": "markdown",
      "metadata": {
        "id": "xPpRAl0TeQR8"
      },
      "source": [
        "For our first example we will train our autoencoder only on non fraudulent cases"
      ]
    },
    {
      "cell_type": "code",
      "metadata": {
        "id": "mMzBdaAdv7rE"
      },
      "source": [
        "X_train_normal = X_train[y_train==0]\n",
        "X_train_fraud = X_train[y_train==1]"
      ],
      "execution_count": 11,
      "outputs": []
    },
    {
      "cell_type": "markdown",
      "metadata": {
        "id": "CbX1U5aheSla"
      },
      "source": [
        "Building an autoencoder with\n",
        "- an input layer with 29 neurons,\n",
        "- a hidden layer with 12 neurons,\n",
        "- an output layer with 29 neurons"
      ]
    },
    {
      "cell_type": "code",
      "metadata": {
        "id": "euBPgiamw2R6"
      },
      "source": [
        "input_layer = Input(shape=(29, ))\n",
        "encoded = Dense(12,activation='tanh')(input_layer)\n",
        "decoded = Dense(29,activation='sigmoid')(encoded)\n",
        "autoencoder = Model(input_layer,decoded)"
      ],
      "execution_count": 12,
      "outputs": []
    },
    {
      "cell_type": "code",
      "metadata": {
        "id": "fY42GWDWyoxL"
      },
      "source": [
        "autoencoder.compile(optimizer='adam',loss='mean_squared_error')"
      ],
      "execution_count": 13,
      "outputs": []
    },
    {
      "cell_type": "code",
      "metadata": {
        "id": "ZC2j3eXJxM-B",
        "colab": {
          "base_uri": "https://localhost:8080/"
        },
        "outputId": "55a23c4f-15bf-486c-be0a-6d7ebb7ba033"
      },
      "source": [
        "autoencoder.fit(X_train_normal, X_train_normal, epochs = 100, batch_size=128,\n",
        "validation_data=(X_train_normal,X_train_normal))"
      ],
      "execution_count": 14,
      "outputs": [
        {
          "output_type": "stream",
          "text": [
            "Epoch 1/100\n",
            "1111/1111 [==============================] - 16s 3ms/step - loss: 1.1179 - val_loss: 0.8840\n",
            "Epoch 2/100\n",
            "1111/1111 [==============================] - 3s 3ms/step - loss: 0.8758 - val_loss: 0.8433\n",
            "Epoch 3/100\n",
            "1111/1111 [==============================] - 3s 3ms/step - loss: 0.8454 - val_loss: 0.8236\n",
            "Epoch 4/100\n",
            "1111/1111 [==============================] - 2s 2ms/step - loss: 0.8218 - val_loss: 0.8118\n",
            "Epoch 5/100\n",
            "1111/1111 [==============================] - 3s 3ms/step - loss: 0.8114 - val_loss: 0.8037\n",
            "Epoch 6/100\n",
            "1111/1111 [==============================] - 2s 2ms/step - loss: 0.7912 - val_loss: 0.7979\n",
            "Epoch 7/100\n",
            "1111/1111 [==============================] - 3s 3ms/step - loss: 0.7935 - val_loss: 0.7937\n",
            "Epoch 8/100\n",
            "1111/1111 [==============================] - 3s 2ms/step - loss: 0.7994 - val_loss: 0.7904\n",
            "Epoch 9/100\n",
            "1111/1111 [==============================] - 2s 2ms/step - loss: 0.7834 - val_loss: 0.7879\n",
            "Epoch 10/100\n",
            "1111/1111 [==============================] - 3s 3ms/step - loss: 0.7947 - val_loss: 0.7858\n",
            "Epoch 11/100\n",
            "1111/1111 [==============================] - 2s 2ms/step - loss: 0.7923 - val_loss: 0.7843\n",
            "Epoch 12/100\n",
            "1111/1111 [==============================] - 2s 2ms/step - loss: 0.7830 - val_loss: 0.7826\n",
            "Epoch 13/100\n",
            "1111/1111 [==============================] - 3s 3ms/step - loss: 0.7758 - val_loss: 0.7815\n",
            "Epoch 14/100\n",
            "1111/1111 [==============================] - 2s 2ms/step - loss: 0.7851 - val_loss: 0.7805\n",
            "Epoch 15/100\n",
            "1111/1111 [==============================] - 3s 3ms/step - loss: 0.7783 - val_loss: 0.7794\n",
            "Epoch 16/100\n",
            "1111/1111 [==============================] - 3s 3ms/step - loss: 0.7697 - val_loss: 0.7787\n",
            "Epoch 17/100\n",
            "1111/1111 [==============================] - 2s 2ms/step - loss: 0.7723 - val_loss: 0.7779\n",
            "Epoch 18/100\n",
            "1111/1111 [==============================] - 3s 3ms/step - loss: 0.7818 - val_loss: 0.7774\n",
            "Epoch 19/100\n",
            "1111/1111 [==============================] - 3s 3ms/step - loss: 0.7872 - val_loss: 0.7768\n",
            "Epoch 20/100\n",
            "1111/1111 [==============================] - 3s 3ms/step - loss: 0.7860 - val_loss: 0.7763\n",
            "Epoch 21/100\n",
            "1111/1111 [==============================] - 2s 2ms/step - loss: 0.7869 - val_loss: 0.7758\n",
            "Epoch 22/100\n",
            "1111/1111 [==============================] - 3s 2ms/step - loss: 0.7796 - val_loss: 0.7756\n",
            "Epoch 23/100\n",
            "1111/1111 [==============================] - 2s 2ms/step - loss: 0.7713 - val_loss: 0.7751\n",
            "Epoch 24/100\n",
            "1111/1111 [==============================] - 3s 3ms/step - loss: 0.7725 - val_loss: 0.7748\n",
            "Epoch 25/100\n",
            "1111/1111 [==============================] - 2s 2ms/step - loss: 0.7661 - val_loss: 0.7748\n",
            "Epoch 26/100\n",
            "1111/1111 [==============================] - 3s 3ms/step - loss: 0.7739 - val_loss: 0.7744\n",
            "Epoch 27/100\n",
            "1111/1111 [==============================] - 3s 3ms/step - loss: 0.7810 - val_loss: 0.7740\n",
            "Epoch 28/100\n",
            "1111/1111 [==============================] - 3s 2ms/step - loss: 0.7665 - val_loss: 0.7738\n",
            "Epoch 29/100\n",
            "1111/1111 [==============================] - 3s 2ms/step - loss: 0.7733 - val_loss: 0.7736\n",
            "Epoch 30/100\n",
            "1111/1111 [==============================] - 3s 3ms/step - loss: 0.7702 - val_loss: 0.7735\n",
            "Epoch 31/100\n",
            "1111/1111 [==============================] - 3s 3ms/step - loss: 0.7691 - val_loss: 0.7732\n",
            "Epoch 32/100\n",
            "1111/1111 [==============================] - 3s 3ms/step - loss: 0.7801 - val_loss: 0.7729\n",
            "Epoch 33/100\n",
            "1111/1111 [==============================] - 3s 3ms/step - loss: 0.8029 - val_loss: 0.7727\n",
            "Epoch 34/100\n",
            "1111/1111 [==============================] - 3s 2ms/step - loss: 0.7806 - val_loss: 0.7726\n",
            "Epoch 35/100\n",
            "1111/1111 [==============================] - 3s 2ms/step - loss: 0.7734 - val_loss: 0.7725\n",
            "Epoch 36/100\n",
            "1111/1111 [==============================] - 3s 2ms/step - loss: 0.7764 - val_loss: 0.7725\n",
            "Epoch 37/100\n",
            "1111/1111 [==============================] - 3s 2ms/step - loss: 0.7777 - val_loss: 0.7720\n",
            "Epoch 38/100\n",
            "1111/1111 [==============================] - 3s 2ms/step - loss: 0.7636 - val_loss: 0.7720\n",
            "Epoch 39/100\n",
            "1111/1111 [==============================] - 3s 2ms/step - loss: 0.7709 - val_loss: 0.7717\n",
            "Epoch 40/100\n",
            "1111/1111 [==============================] - 3s 3ms/step - loss: 0.7744 - val_loss: 0.7716\n",
            "Epoch 41/100\n",
            "1111/1111 [==============================] - 3s 2ms/step - loss: 0.7632 - val_loss: 0.7714\n",
            "Epoch 42/100\n",
            "1111/1111 [==============================] - 2s 2ms/step - loss: 0.7817 - val_loss: 0.7713\n",
            "Epoch 43/100\n",
            "1111/1111 [==============================] - 3s 3ms/step - loss: 0.7692 - val_loss: 0.7712\n",
            "Epoch 44/100\n",
            "1111/1111 [==============================] - 3s 3ms/step - loss: 0.7724 - val_loss: 0.7711\n",
            "Epoch 45/100\n",
            "1111/1111 [==============================] - 2s 2ms/step - loss: 0.7697 - val_loss: 0.7714\n",
            "Epoch 46/100\n",
            "1111/1111 [==============================] - 3s 3ms/step - loss: 0.7681 - val_loss: 0.7709\n",
            "Epoch 47/100\n",
            "1111/1111 [==============================] - 3s 3ms/step - loss: 0.7629 - val_loss: 0.7707\n",
            "Epoch 48/100\n",
            "1111/1111 [==============================] - 3s 3ms/step - loss: 0.7707 - val_loss: 0.7706\n",
            "Epoch 49/100\n",
            "1111/1111 [==============================] - 3s 3ms/step - loss: 0.7716 - val_loss: 0.7706\n",
            "Epoch 50/100\n",
            "1111/1111 [==============================] - 2s 2ms/step - loss: 0.7843 - val_loss: 0.7704\n",
            "Epoch 51/100\n",
            "1111/1111 [==============================] - 3s 3ms/step - loss: 0.7755 - val_loss: 0.7703\n",
            "Epoch 52/100\n",
            "1111/1111 [==============================] - 3s 3ms/step - loss: 0.7638 - val_loss: 0.7702\n",
            "Epoch 53/100\n",
            "1111/1111 [==============================] - 3s 3ms/step - loss: 0.7632 - val_loss: 0.7700\n",
            "Epoch 54/100\n",
            "1111/1111 [==============================] - 2s 2ms/step - loss: 0.7793 - val_loss: 0.7701\n",
            "Epoch 55/100\n",
            "1111/1111 [==============================] - 2s 2ms/step - loss: 0.7756 - val_loss: 0.7698\n",
            "Epoch 56/100\n",
            "1111/1111 [==============================] - 3s 3ms/step - loss: 0.7672 - val_loss: 0.7697\n",
            "Epoch 57/100\n",
            "1111/1111 [==============================] - 2s 2ms/step - loss: 0.7751 - val_loss: 0.7698\n",
            "Epoch 58/100\n",
            "1111/1111 [==============================] - 3s 3ms/step - loss: 0.7495 - val_loss: 0.7696\n",
            "Epoch 59/100\n",
            "1111/1111 [==============================] - 3s 3ms/step - loss: 0.7902 - val_loss: 0.7694\n",
            "Epoch 60/100\n",
            "1111/1111 [==============================] - 2s 2ms/step - loss: 0.7781 - val_loss: 0.7695\n",
            "Epoch 61/100\n",
            "1111/1111 [==============================] - 3s 3ms/step - loss: 0.7730 - val_loss: 0.7694\n",
            "Epoch 62/100\n",
            "1111/1111 [==============================] - 3s 3ms/step - loss: 0.7652 - val_loss: 0.7694\n",
            "Epoch 63/100\n",
            "1111/1111 [==============================] - 3s 3ms/step - loss: 0.7754 - val_loss: 0.7693\n",
            "Epoch 64/100\n",
            "1111/1111 [==============================] - 3s 3ms/step - loss: 0.7626 - val_loss: 0.7693\n",
            "Epoch 65/100\n",
            "1111/1111 [==============================] - 3s 2ms/step - loss: 0.7790 - val_loss: 0.7691\n",
            "Epoch 66/100\n",
            "1111/1111 [==============================] - 3s 3ms/step - loss: 0.7554 - val_loss: 0.7692\n",
            "Epoch 67/100\n",
            "1111/1111 [==============================] - 2s 2ms/step - loss: 0.7872 - val_loss: 0.7691\n",
            "Epoch 68/100\n",
            "1111/1111 [==============================] - 3s 3ms/step - loss: 0.7684 - val_loss: 0.7690\n",
            "Epoch 69/100\n",
            "1111/1111 [==============================] - 3s 3ms/step - loss: 0.7718 - val_loss: 0.7688\n",
            "Epoch 70/100\n",
            "1111/1111 [==============================] - 3s 3ms/step - loss: 0.7648 - val_loss: 0.7689\n",
            "Epoch 71/100\n",
            "1111/1111 [==============================] - 2s 2ms/step - loss: 0.7808 - val_loss: 0.7688\n",
            "Epoch 72/100\n",
            "1111/1111 [==============================] - 3s 2ms/step - loss: 0.7666 - val_loss: 0.7687\n",
            "Epoch 73/100\n",
            "1111/1111 [==============================] - 3s 2ms/step - loss: 0.7594 - val_loss: 0.7688\n",
            "Epoch 74/100\n",
            "1111/1111 [==============================] - 3s 3ms/step - loss: 0.7724 - val_loss: 0.7686\n",
            "Epoch 75/100\n",
            "1111/1111 [==============================] - 3s 3ms/step - loss: 0.7770 - val_loss: 0.7685\n",
            "Epoch 76/100\n",
            "1111/1111 [==============================] - 2s 2ms/step - loss: 0.7781 - val_loss: 0.7688\n",
            "Epoch 77/100\n",
            "1111/1111 [==============================] - 2s 2ms/step - loss: 0.7828 - val_loss: 0.7685\n",
            "Epoch 78/100\n",
            "1111/1111 [==============================] - 3s 3ms/step - loss: 0.7735 - val_loss: 0.7686\n",
            "Epoch 79/100\n",
            "1111/1111 [==============================] - 3s 2ms/step - loss: 0.7557 - val_loss: 0.7686\n",
            "Epoch 80/100\n",
            "1111/1111 [==============================] - 3s 3ms/step - loss: 0.7686 - val_loss: 0.7685\n",
            "Epoch 81/100\n",
            "1111/1111 [==============================] - 3s 3ms/step - loss: 0.7911 - val_loss: 0.7683\n",
            "Epoch 82/100\n",
            "1111/1111 [==============================] - 2s 2ms/step - loss: 0.7622 - val_loss: 0.7686\n",
            "Epoch 83/100\n",
            "1111/1111 [==============================] - 3s 3ms/step - loss: 0.7699 - val_loss: 0.7684\n",
            "Epoch 84/100\n",
            "1111/1111 [==============================] - 3s 3ms/step - loss: 0.7736 - val_loss: 0.7683\n",
            "Epoch 85/100\n",
            "1111/1111 [==============================] - 3s 3ms/step - loss: 0.7627 - val_loss: 0.7682\n",
            "Epoch 86/100\n",
            "1111/1111 [==============================] - 3s 3ms/step - loss: 0.7969 - val_loss: 0.7682\n",
            "Epoch 87/100\n",
            "1111/1111 [==============================] - 3s 3ms/step - loss: 0.7782 - val_loss: 0.7683\n",
            "Epoch 88/100\n",
            "1111/1111 [==============================] - 3s 2ms/step - loss: 0.7901 - val_loss: 0.7681\n",
            "Epoch 89/100\n",
            "1111/1111 [==============================] - 3s 2ms/step - loss: 0.7734 - val_loss: 0.7682\n",
            "Epoch 90/100\n",
            "1111/1111 [==============================] - 3s 2ms/step - loss: 0.7737 - val_loss: 0.7683\n",
            "Epoch 91/100\n",
            "1111/1111 [==============================] - 3s 3ms/step - loss: 0.7664 - val_loss: 0.7681\n",
            "Epoch 92/100\n",
            "1111/1111 [==============================] - 3s 3ms/step - loss: 0.7782 - val_loss: 0.7681\n",
            "Epoch 93/100\n",
            "1111/1111 [==============================] - 3s 3ms/step - loss: 0.7654 - val_loss: 0.7681\n",
            "Epoch 94/100\n",
            "1111/1111 [==============================] - 3s 2ms/step - loss: 0.7669 - val_loss: 0.7680\n",
            "Epoch 95/100\n",
            "1111/1111 [==============================] - 3s 3ms/step - loss: 0.7644 - val_loss: 0.7682\n",
            "Epoch 96/100\n",
            "1111/1111 [==============================] - 3s 2ms/step - loss: 0.7527 - val_loss: 0.7682\n",
            "Epoch 97/100\n",
            "1111/1111 [==============================] - 3s 3ms/step - loss: 0.7749 - val_loss: 0.7680\n",
            "Epoch 98/100\n",
            "1111/1111 [==============================] - 3s 3ms/step - loss: 0.7711 - val_loss: 0.7680\n",
            "Epoch 99/100\n",
            "1111/1111 [==============================] - 2s 2ms/step - loss: 0.7765 - val_loss: 0.7679\n",
            "Epoch 100/100\n",
            "1111/1111 [==============================] - 3s 2ms/step - loss: 0.7641 - val_loss: 0.7679\n"
          ],
          "name": "stdout"
        },
        {
          "output_type": "execute_result",
          "data": {
            "text/plain": [
              "<keras.callbacks.History at 0x7f1b89b96890>"
            ]
          },
          "metadata": {
            "tags": []
          },
          "execution_count": 14
        }
      ]
    },
    {
      "cell_type": "code",
      "metadata": {
        "id": "qzcu7y3nxsw3",
        "colab": {
          "base_uri": "https://localhost:8080/",
          "height": 172
        },
        "outputId": "025fceb4-2dc2-4f55-d90b-778e22404890"
      },
      "source": [
        "predictions = autoencoder.predict(X_train)\n",
        "mse = np.mean(np.power(X_train - predictions, 2), axis=1)\n",
        "error_df = pd.DataFrame({'reconstruction_error': mse,\n",
        "                        'true_class': y_train})\n",
        "error_df.groupby('true_class').describe()"
      ],
      "execution_count": 15,
      "outputs": [
        {
          "output_type": "execute_result",
          "data": {
            "text/html": [
              "<div>\n",
              "<style scoped>\n",
              "    .dataframe tbody tr th:only-of-type {\n",
              "        vertical-align: middle;\n",
              "    }\n",
              "\n",
              "    .dataframe tbody tr th {\n",
              "        vertical-align: top;\n",
              "    }\n",
              "\n",
              "    .dataframe thead tr th {\n",
              "        text-align: left;\n",
              "    }\n",
              "\n",
              "    .dataframe thead tr:last-of-type th {\n",
              "        text-align: right;\n",
              "    }\n",
              "</style>\n",
              "<table border=\"1\" class=\"dataframe\">\n",
              "  <thead>\n",
              "    <tr>\n",
              "      <th></th>\n",
              "      <th colspan=\"8\" halign=\"left\">reconstruction_error</th>\n",
              "    </tr>\n",
              "    <tr>\n",
              "      <th></th>\n",
              "      <th>count</th>\n",
              "      <th>mean</th>\n",
              "      <th>std</th>\n",
              "      <th>min</th>\n",
              "      <th>25%</th>\n",
              "      <th>50%</th>\n",
              "      <th>75%</th>\n",
              "      <th>max</th>\n",
              "    </tr>\n",
              "    <tr>\n",
              "      <th>true_class</th>\n",
              "      <th></th>\n",
              "      <th></th>\n",
              "      <th></th>\n",
              "      <th></th>\n",
              "      <th></th>\n",
              "      <th></th>\n",
              "      <th></th>\n",
              "      <th></th>\n",
              "    </tr>\n",
              "  </thead>\n",
              "  <tbody>\n",
              "    <tr>\n",
              "      <th>0</th>\n",
              "      <td>142154.0</td>\n",
              "      <td>0.767910</td>\n",
              "      <td>3.441055</td>\n",
              "      <td>0.029713</td>\n",
              "      <td>0.228817</td>\n",
              "      <td>0.393219</td>\n",
              "      <td>0.651895</td>\n",
              "      <td>317.794986</td>\n",
              "    </tr>\n",
              "    <tr>\n",
              "      <th>1</th>\n",
              "      <td>249.0</td>\n",
              "      <td>30.677632</td>\n",
              "      <td>43.615591</td>\n",
              "      <td>0.147211</td>\n",
              "      <td>4.389968</td>\n",
              "      <td>11.196580</td>\n",
              "      <td>27.837496</td>\n",
              "      <td>280.823599</td>\n",
              "    </tr>\n",
              "  </tbody>\n",
              "</table>\n",
              "</div>"
            ],
            "text/plain": [
              "           reconstruction_error             ...                       \n",
              "                          count       mean  ...        75%         max\n",
              "true_class                                  ...                       \n",
              "0                      142154.0   0.767910  ...   0.651895  317.794986\n",
              "1                         249.0  30.677632  ...  27.837496  280.823599\n",
              "\n",
              "[2 rows x 8 columns]"
            ]
          },
          "metadata": {
            "tags": []
          },
          "execution_count": 15
        }
      ]
    },
    {
      "cell_type": "markdown",
      "metadata": {
        "id": "rRQepwFre9UM"
      },
      "source": [
        "As we can see above the error for non fraudulent case is lower than the error for fraudulent cases. We use a threshold of mean plus 3 sds to classify the test set."
      ]
    },
    {
      "cell_type": "code",
      "metadata": {
        "id": "-zAII8DQxw-B"
      },
      "source": [
        "test_predictions=autoencoder.predict(X_test)\n",
        "mse = np.mean(np.power(X_test - test_predictions, 2), axis=1)\n",
        "y_pred=[(lambda er: 1 if er>=11.078922  else 0)(er) for er in mse]"
      ],
      "execution_count": 16,
      "outputs": []
    },
    {
      "cell_type": "code",
      "metadata": {
        "id": "mZ4V1lfb46jQ",
        "colab": {
          "base_uri": "https://localhost:8080/",
          "height": 295
        },
        "outputId": "32c17c68-bd3c-4e0d-e4c1-b3c2a622254e"
      },
      "source": [
        "conf_matrix = metrics.confusion_matrix(y_test,y_pred)\n",
        "\n",
        "ax=plt.subplot()\n",
        "sns.heatmap(conf_matrix,annot=True,ax=ax,fmt='g')#annot=True to annotate cells, fmt='g' numbers not scientific form\n",
        "ax.set_xlabel('Predicted labels'); ax.set_ylabel('True labels')\n",
        "ax.set_title('Confusion Matrix'); \n",
        "ax.xaxis.set_ticklabels(['Normal', 'Fraud']); ax.yaxis.set_ticklabels(['Normal', 'Fraud']);\n",
        "ax.set(yticks=[0, 2], \n",
        "       xticks=[0.5, 1.5])\n",
        "ax.yaxis.set_major_locator(ticker.IndexLocator(base=1, offset=0.5))"
      ],
      "execution_count": 17,
      "outputs": [
        {
          "output_type": "display_data",
          "data": {
            "image/png": "[encoded data removed]",
            "text/plain": [
              "<Figure size 432x288 with 2 Axes>"
            ]
          },
          "metadata": {
            "tags": [],
            "needs_background": "light"
          }
        }
      ]
    },
    {
      "cell_type": "markdown",
      "metadata": {
        "id": "Nh2xw3tcfng9"
      },
      "source": [
        "##Second method: using encoder part of autoencoder and k-NN\n",
        "\n",
        "We train using all cases (fraud/non-fraud)in train dataset and use the result to map the instances into a 12-dimensional space. The mapped cases are fed to k-NN for classification."
      ]
    },
    {
      "cell_type": "code",
      "metadata": {
        "id": "B7SnYf1KFVm9",
        "colab": {
          "base_uri": "https://localhost:8080/"
        },
        "outputId": "c844304e-230d-4385-ffeb-8f8640250eca"
      },
      "source": [
        "input_layer_all = Input(shape=(29, ))\n",
        "encoded_all = Dense(12,activation='tanh')(input_layer_all)\n",
        "decoded_all = Dense(29,activation='sigmoid')(encoded_all)\n",
        "autoencoder_all = Model(input_layer_all,decoded_all)\n",
        "autoencoder_all.compile(optimizer='adam',loss='mean_squared_error')\n",
        "autoencoder_all.fit(X_train, X_train, epochs = 100, batch_size=128,\n",
        "validation_data=(X_train,X_train))"
      ],
      "execution_count": 18,
      "outputs": [
        {
          "output_type": "stream",
          "text": [
            "Epoch 1/100\n",
            "1113/1113 [==============================] - 4s 3ms/step - loss: 1.1684 - val_loss: 0.9398\n",
            "Epoch 2/100\n",
            "1113/1113 [==============================] - 2s 2ms/step - loss: 0.9049 - val_loss: 0.8965\n",
            "Epoch 3/100\n",
            "1113/1113 [==============================] - 2s 2ms/step - loss: 0.8966 - val_loss: 0.8765\n",
            "Epoch 4/100\n",
            "1113/1113 [==============================] - 2s 2ms/step - loss: 0.8692 - val_loss: 0.8633\n",
            "Epoch 5/100\n",
            "1113/1113 [==============================] - 3s 2ms/step - loss: 0.8502 - val_loss: 0.8539\n",
            "Epoch 6/100\n",
            "1113/1113 [==============================] - 2s 2ms/step - loss: 0.8575 - val_loss: 0.8468\n",
            "Epoch 7/100\n",
            "1113/1113 [==============================] - 3s 2ms/step - loss: 0.8562 - val_loss: 0.8424\n",
            "Epoch 8/100\n",
            "1113/1113 [==============================] - 3s 3ms/step - loss: 0.8396 - val_loss: 0.8387\n",
            "Epoch 9/100\n",
            "1113/1113 [==============================] - 2s 2ms/step - loss: 0.8352 - val_loss: 0.8360\n",
            "Epoch 10/100\n",
            "1113/1113 [==============================] - 2s 2ms/step - loss: 0.8338 - val_loss: 0.8339\n",
            "Epoch 11/100\n",
            "1113/1113 [==============================] - 2s 2ms/step - loss: 0.8563 - val_loss: 0.8322\n",
            "Epoch 12/100\n",
            "1113/1113 [==============================] - 2s 2ms/step - loss: 0.8232 - val_loss: 0.8308\n",
            "Epoch 13/100\n",
            "1113/1113 [==============================] - 2s 2ms/step - loss: 0.8276 - val_loss: 0.8297\n",
            "Epoch 14/100\n",
            "1113/1113 [==============================] - 3s 3ms/step - loss: 0.8289 - val_loss: 0.8286\n",
            "Epoch 15/100\n",
            "1113/1113 [==============================] - 3s 3ms/step - loss: 0.8245 - val_loss: 0.8279\n",
            "Epoch 16/100\n",
            "1113/1113 [==============================] - 3s 3ms/step - loss: 0.8324 - val_loss: 0.8271\n",
            "Epoch 17/100\n",
            "1113/1113 [==============================] - 3s 3ms/step - loss: 0.8292 - val_loss: 0.8267\n",
            "Epoch 18/100\n",
            "1113/1113 [==============================] - 2s 2ms/step - loss: 0.8173 - val_loss: 0.8262\n",
            "Epoch 19/100\n",
            "1113/1113 [==============================] - 2s 2ms/step - loss: 0.8300 - val_loss: 0.8256\n",
            "Epoch 20/100\n",
            "1113/1113 [==============================] - 2s 2ms/step - loss: 0.8279 - val_loss: 0.8252\n",
            "Epoch 21/100\n",
            "1113/1113 [==============================] - 2s 2ms/step - loss: 0.8279 - val_loss: 0.8249\n",
            "Epoch 22/100\n",
            "1113/1113 [==============================] - 3s 3ms/step - loss: 0.8359 - val_loss: 0.8244\n",
            "Epoch 23/100\n",
            "1113/1113 [==============================] - 3s 3ms/step - loss: 0.8108 - val_loss: 0.8242\n",
            "Epoch 24/100\n",
            "1113/1113 [==============================] - 4s 3ms/step - loss: 0.8429 - val_loss: 0.8240\n",
            "Epoch 25/100\n",
            "1113/1113 [==============================] - 3s 3ms/step - loss: 0.8340 - val_loss: 0.8235\n",
            "Epoch 26/100\n",
            "1113/1113 [==============================] - 3s 3ms/step - loss: 0.8060 - val_loss: 0.8235\n",
            "Epoch 27/100\n",
            "1113/1113 [==============================] - 2s 2ms/step - loss: 0.7995 - val_loss: 0.8233\n",
            "Epoch 28/100\n",
            "1113/1113 [==============================] - 3s 3ms/step - loss: 0.7945 - val_loss: 0.8231\n",
            "Epoch 29/100\n",
            "1113/1113 [==============================] - 3s 2ms/step - loss: 0.8001 - val_loss: 0.8233\n",
            "Epoch 30/100\n",
            "1113/1113 [==============================] - 3s 2ms/step - loss: 0.8393 - val_loss: 0.8226\n",
            "Epoch 31/100\n",
            "1113/1113 [==============================] - 3s 2ms/step - loss: 0.8214 - val_loss: 0.8225\n",
            "Epoch 32/100\n",
            "1113/1113 [==============================] - 3s 2ms/step - loss: 0.8194 - val_loss: 0.8223\n",
            "Epoch 33/100\n",
            "1113/1113 [==============================] - 3s 3ms/step - loss: 0.8100 - val_loss: 0.8221\n",
            "Epoch 34/100\n",
            "1113/1113 [==============================] - 3s 2ms/step - loss: 0.8296 - val_loss: 0.8222\n",
            "Epoch 35/100\n",
            "1113/1113 [==============================] - 3s 3ms/step - loss: 0.8337 - val_loss: 0.8219\n",
            "Epoch 36/100\n",
            "1113/1113 [==============================] - 3s 3ms/step - loss: 0.8288 - val_loss: 0.8218\n",
            "Epoch 37/100\n",
            "1113/1113 [==============================] - 3s 3ms/step - loss: 0.8211 - val_loss: 0.8224\n",
            "Epoch 38/100\n",
            "1113/1113 [==============================] - 3s 3ms/step - loss: 0.8150 - val_loss: 0.8214\n",
            "Epoch 39/100\n",
            "1113/1113 [==============================] - 2s 2ms/step - loss: 0.8174 - val_loss: 0.8215\n",
            "Epoch 40/100\n",
            "1113/1113 [==============================] - 2s 2ms/step - loss: 0.8090 - val_loss: 0.8213\n",
            "Epoch 41/100\n",
            "1113/1113 [==============================] - 3s 3ms/step - loss: 0.8188 - val_loss: 0.8210\n",
            "Epoch 42/100\n",
            "1113/1113 [==============================] - 3s 3ms/step - loss: 0.8024 - val_loss: 0.8208\n",
            "Epoch 43/100\n",
            "1113/1113 [==============================] - 3s 2ms/step - loss: 0.8330 - val_loss: 0.8208\n",
            "Epoch 44/100\n",
            "1113/1113 [==============================] - 2s 2ms/step - loss: 0.8377 - val_loss: 0.8205\n",
            "Epoch 45/100\n",
            "1113/1113 [==============================] - 2s 2ms/step - loss: 0.8139 - val_loss: 0.8203\n",
            "Epoch 46/100\n",
            "1113/1113 [==============================] - 3s 3ms/step - loss: 0.8274 - val_loss: 0.8203\n",
            "Epoch 47/100\n",
            "1113/1113 [==============================] - 3s 3ms/step - loss: 0.8134 - val_loss: 0.8200\n",
            "Epoch 48/100\n",
            "1113/1113 [==============================] - 2s 2ms/step - loss: 0.8161 - val_loss: 0.8198\n",
            "Epoch 49/100\n",
            "1113/1113 [==============================] - 3s 3ms/step - loss: 0.8372 - val_loss: 0.8197\n",
            "Epoch 50/100\n",
            "1113/1113 [==============================] - 2s 2ms/step - loss: 0.8263 - val_loss: 0.8196\n",
            "Epoch 51/100\n",
            "1113/1113 [==============================] - 3s 3ms/step - loss: 0.7982 - val_loss: 0.8201\n",
            "Epoch 52/100\n",
            "1113/1113 [==============================] - 3s 3ms/step - loss: 0.8018 - val_loss: 0.8192\n",
            "Epoch 53/100\n",
            "1113/1113 [==============================] - 3s 3ms/step - loss: 0.8417 - val_loss: 0.8195\n",
            "Epoch 54/100\n",
            "1113/1113 [==============================] - 3s 3ms/step - loss: 0.8170 - val_loss: 0.8196\n",
            "Epoch 55/100\n",
            "1113/1113 [==============================] - 3s 2ms/step - loss: 0.8120 - val_loss: 0.8195\n",
            "Epoch 56/100\n",
            "1113/1113 [==============================] - 3s 3ms/step - loss: 0.8227 - val_loss: 0.8195\n",
            "Epoch 57/100\n",
            "1113/1113 [==============================] - 3s 3ms/step - loss: 0.8031 - val_loss: 0.8189\n",
            "Epoch 58/100\n",
            "1113/1113 [==============================] - 3s 3ms/step - loss: 0.8214 - val_loss: 0.8188\n",
            "Epoch 59/100\n",
            "1113/1113 [==============================] - 2s 2ms/step - loss: 0.8315 - val_loss: 0.8187\n",
            "Epoch 60/100\n",
            "1113/1113 [==============================] - 3s 3ms/step - loss: 0.8288 - val_loss: 0.8188\n",
            "Epoch 61/100\n",
            "1113/1113 [==============================] - 3s 3ms/step - loss: 0.7969 - val_loss: 0.8185\n",
            "Epoch 62/100\n",
            "1113/1113 [==============================] - 3s 2ms/step - loss: 0.8113 - val_loss: 0.8188\n",
            "Epoch 63/100\n",
            "1113/1113 [==============================] - 3s 3ms/step - loss: 0.8212 - val_loss: 0.8183\n",
            "Epoch 64/100\n",
            "1113/1113 [==============================] - 3s 3ms/step - loss: 0.8158 - val_loss: 0.8184\n",
            "Epoch 65/100\n",
            "1113/1113 [==============================] - 3s 3ms/step - loss: 0.8066 - val_loss: 0.8181\n",
            "Epoch 66/100\n",
            "1113/1113 [==============================] - 3s 3ms/step - loss: 0.8069 - val_loss: 0.8182\n",
            "Epoch 67/100\n",
            "1113/1113 [==============================] - 2s 2ms/step - loss: 0.8084 - val_loss: 0.8181\n",
            "Epoch 68/100\n",
            "1113/1113 [==============================] - 3s 2ms/step - loss: 0.8225 - val_loss: 0.8179\n",
            "Epoch 69/100\n",
            "1113/1113 [==============================] - 3s 3ms/step - loss: 0.8297 - val_loss: 0.8179\n",
            "Epoch 70/100\n",
            "1113/1113 [==============================] - 3s 3ms/step - loss: 0.8271 - val_loss: 0.8178\n",
            "Epoch 71/100\n",
            "1113/1113 [==============================] - 2s 2ms/step - loss: 0.8070 - val_loss: 0.8178\n",
            "Epoch 72/100\n",
            "1113/1113 [==============================] - 2s 2ms/step - loss: 0.8179 - val_loss: 0.8176\n",
            "Epoch 73/100\n",
            "1113/1113 [==============================] - 3s 3ms/step - loss: 0.8242 - val_loss: 0.8176\n",
            "Epoch 74/100\n",
            "1113/1113 [==============================] - 3s 3ms/step - loss: 0.8169 - val_loss: 0.8177\n",
            "Epoch 75/100\n",
            "1113/1113 [==============================] - 3s 2ms/step - loss: 0.8242 - val_loss: 0.8175\n",
            "Epoch 76/100\n",
            "1113/1113 [==============================] - 3s 3ms/step - loss: 0.8137 - val_loss: 0.8182\n",
            "Epoch 77/100\n",
            "1113/1113 [==============================] - 3s 3ms/step - loss: 0.8306 - val_loss: 0.8173\n",
            "Epoch 78/100\n",
            "1113/1113 [==============================] - 3s 3ms/step - loss: 0.8237 - val_loss: 0.8173\n",
            "Epoch 79/100\n",
            "1113/1113 [==============================] - 2s 2ms/step - loss: 0.8194 - val_loss: 0.8173\n",
            "Epoch 80/100\n",
            "1113/1113 [==============================] - 3s 2ms/step - loss: 0.8206 - val_loss: 0.8175\n",
            "Epoch 81/100\n",
            "1113/1113 [==============================] - 3s 2ms/step - loss: 0.8155 - val_loss: 0.8177\n",
            "Epoch 82/100\n",
            "1113/1113 [==============================] - 3s 2ms/step - loss: 0.8082 - val_loss: 0.8171\n",
            "Epoch 83/100\n",
            "1113/1113 [==============================] - 2s 2ms/step - loss: 0.8023 - val_loss: 0.8172\n",
            "Epoch 84/100\n",
            "1113/1113 [==============================] - 3s 2ms/step - loss: 0.7996 - val_loss: 0.8172\n",
            "Epoch 85/100\n",
            "1113/1113 [==============================] - 3s 3ms/step - loss: 0.8258 - val_loss: 0.8178\n",
            "Epoch 86/100\n",
            "1113/1113 [==============================] - 3s 3ms/step - loss: 0.8081 - val_loss: 0.8172\n",
            "Epoch 87/100\n",
            "1113/1113 [==============================] - 3s 2ms/step - loss: 0.8232 - val_loss: 0.8169\n",
            "Epoch 88/100\n",
            "1113/1113 [==============================] - 3s 3ms/step - loss: 0.7985 - val_loss: 0.8168\n",
            "Epoch 89/100\n",
            "1113/1113 [==============================] - 3s 2ms/step - loss: 0.8249 - val_loss: 0.8172\n",
            "Epoch 90/100\n",
            "1113/1113 [==============================] - 3s 2ms/step - loss: 0.8140 - val_loss: 0.8169\n",
            "Epoch 91/100\n",
            "1113/1113 [==============================] - 2s 2ms/step - loss: 0.8085 - val_loss: 0.8167\n",
            "Epoch 92/100\n",
            "1113/1113 [==============================] - 3s 2ms/step - loss: 0.8246 - val_loss: 0.8167\n",
            "Epoch 93/100\n",
            "1113/1113 [==============================] - 3s 2ms/step - loss: 0.8024 - val_loss: 0.8169\n",
            "Epoch 94/100\n",
            "1113/1113 [==============================] - 3s 2ms/step - loss: 0.8195 - val_loss: 0.8166\n",
            "Epoch 95/100\n",
            "1113/1113 [==============================] - 2s 2ms/step - loss: 0.8289 - val_loss: 0.8167\n",
            "Epoch 96/100\n",
            "1113/1113 [==============================] - 3s 2ms/step - loss: 0.8248 - val_loss: 0.8166\n",
            "Epoch 97/100\n",
            "1113/1113 [==============================] - 3s 3ms/step - loss: 0.8154 - val_loss: 0.8166\n",
            "Epoch 98/100\n",
            "1113/1113 [==============================] - 3s 3ms/step - loss: 0.8148 - val_loss: 0.8165\n",
            "Epoch 99/100\n",
            "1113/1113 [==============================] - 3s 3ms/step - loss: 0.8117 - val_loss: 0.8166\n",
            "Epoch 100/100\n",
            "1113/1113 [==============================] - 3s 3ms/step - loss: 0.8096 - val_loss: 0.8164\n"
          ],
          "name": "stdout"
        },
        {
          "output_type": "execute_result",
          "data": {
            "text/plain": [
              "<keras.callbacks.History at 0x7f1b83a1d050>"
            ]
          },
          "metadata": {
            "tags": []
          },
          "execution_count": 18
        }
      ]
    },
    {
      "cell_type": "code",
      "metadata": {
        "id": "9MntASWT9EYJ"
      },
      "source": [
        "encoder_all = Model(input_layer_all,encoded_all)\n",
        "enc_all = encoder_all.predict(X_train)"
      ],
      "execution_count": 19,
      "outputs": []
    },
    {
      "cell_type": "markdown",
      "metadata": {
        "id": "hYRDsZ6ygSJq"
      },
      "source": [
        "Loading library for k-NN"
      ]
    },
    {
      "cell_type": "code",
      "metadata": {
        "id": "iix7bOJQ5gxc"
      },
      "source": [
        "from sklearn.neighbors import KNeighborsClassifier"
      ],
      "execution_count": 20,
      "outputs": []
    },
    {
      "cell_type": "code",
      "metadata": {
        "id": "CaDHQXxt5iCg"
      },
      "source": [
        "knn_model = KNeighborsClassifier(n_neighbors=3)"
      ],
      "execution_count": 21,
      "outputs": []
    },
    {
      "cell_type": "code",
      "metadata": {
        "id": "YjqB805u9XqF",
        "colab": {
          "base_uri": "https://localhost:8080/"
        },
        "outputId": "dd813449-c05c-4d6b-94d9-a49efd13bad9"
      },
      "source": [
        "# Train the model using the training sets\n",
        "knn_model.fit(enc_all,y_train)"
      ],
      "execution_count": 22,
      "outputs": [
        {
          "output_type": "execute_result",
          "data": {
            "text/plain": [
              "KNeighborsClassifier(algorithm='auto', leaf_size=30, metric='minkowski',\n",
              "                     metric_params=None, n_jobs=None, n_neighbors=3, p=2,\n",
              "                     weights='uniform')"
            ]
          },
          "metadata": {
            "tags": []
          },
          "execution_count": 22
        }
      ]
    },
    {
      "cell_type": "code",
      "metadata": {
        "id": "80H7xbeSBvWc",
        "colab": {
          "base_uri": "https://localhost:8080/"
        },
        "outputId": "98342208-886f-41e4-a40f-cc9c33ed60c7"
      },
      "source": [
        "%%time\n",
        "knn_predicted= knn_model.predict(encoder_all.predict(X_test))"
      ],
      "execution_count": 23,
      "outputs": [
        {
          "output_type": "stream",
          "text": [
            "CPU times: user 36.8 s, sys: 406 ms, total: 37.2 s\n",
            "Wall time: 38.8 s\n"
          ],
          "name": "stdout"
        }
      ]
    },
    {
      "cell_type": "code",
      "metadata": {
        "id": "6aVN3Qe-D3Oz",
        "colab": {
          "base_uri": "https://localhost:8080/",
          "height": 295
        },
        "outputId": "c0ef8d3b-c3bc-42ac-b110-4810f8efd33e"
      },
      "source": [
        "conf_matrix = metrics.confusion_matrix(y_test,knn_predicted)\n",
        "\n",
        "ax=plt.subplot()\n",
        "sns.heatmap(conf_matrix,annot=True,ax=ax,fmt='g')#annot=True to annotate cells, fmt='g' numbers not scientific form\n",
        "ax.set_xlabel('Predicted labels'); ax.set_ylabel('True labels')\n",
        "ax.set_title('Confusion Matrix'); \n",
        "ax.xaxis.set_ticklabels(['Normal', 'Fraud']); ax.yaxis.set_ticklabels(['Normal', 'Fraud']);\n",
        "ax.set(yticks=[0, 2], \n",
        "       xticks=[0.5, 1.5])\n",
        "ax.yaxis.set_major_locator(ticker.IndexLocator(base=1, offset=0.5))"
      ],
      "execution_count": 24,
      "outputs": [
        {
          "output_type": "display_data",
          "data": {
            "image/png": "[encoded data removed]",
            "text/plain": [
              "<Figure size 432x288 with 2 Axes>"
            ]
          },
          "metadata": {
            "tags": [],
            "needs_background": "light"
          }
        }
      ]
    }
  ]
}