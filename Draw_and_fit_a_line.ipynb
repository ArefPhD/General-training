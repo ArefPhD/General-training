{
  "nbformat": 4,
  "nbformat_minor": 0,
  "metadata": {
    "colab": {
      "name": "Draw_and_fit_a_line.ipynb",
      "private_outputs": true,
      "provenance": [],
      "authorship_tag": "ABX9TyM4wvytwKcQ/fYS1OrCaJXe",
      "include_colab_link": true
    },
    "kernelspec": {
      "name": "python3",
      "display_name": "Python 3"
    },
    "language_info": {
      "name": "python"
    }
  },
  "cells": [
    {
      "cell_type": "markdown",
      "metadata": {
        "id": "view-in-github",
        "colab_type": "text"
      },
      "source": [
        "<a href=\"https://colab.research.google.com/github/ArefPhD/General-training/blob/main/Draw_and_fit_a_line.ipynb\" target=\"_parent\"><img src=\"https://colab.research.google.com/assets/colab-badge.svg\" alt=\"Open In Colab\"/></a>"
      ]
    },
    {
      "cell_type": "code",
      "metadata": {
        "id": "cWFACNaic1MU"
      },
      "source": [
        "import pandas as pd\n",
        "import tensorflow as tf"
      ],
      "execution_count": null,
      "outputs": []
    },
    {
      "cell_type": "code",
      "metadata": {
        "id": "nI36DJNjc2-2"
      },
      "source": [
        "csv_file = tf.keras.utils.get_file('heart.csv', 'https://storage.googleapis.com/download.tensorflow.org/data/heart.csv')\n"
      ],
      "execution_count": null,
      "outputs": []
    },
    {
      "cell_type": "code",
      "metadata": {
        "id": "zCD7r-G6dCHv"
      },
      "source": [
        "df = pd.read_csv(csv_file)\n"
      ],
      "execution_count": null,
      "outputs": []
    },
    {
      "cell_type": "code",
      "metadata": {
        "id": "9pOzr1w3dFD5"
      },
      "source": [
        "df.head()"
      ],
      "execution_count": null,
      "outputs": []
    },
    {
      "cell_type": "code",
      "metadata": {
        "id": "mKIv53PEdP1u"
      },
      "source": [
        "import matplotlib.pyplot as plt\n",
        "\n",
        "X=df['chol'] \n",
        "Y=df['age']\n",
        "plt.scatter(X,Y,color='purple')\n",
        "plt.show()\n",
        "Z=[X,Y]"
      ],
      "execution_count": null,
      "outputs": []
    },
    {
      "cell_type": "code",
      "metadata": {
        "id": "vbhWnBnUdfVG"
      },
      "source": [
        " X.corr(Y)"
      ],
      "execution_count": null,
      "outputs": []
    },
    {
      "cell_type": "code",
      "metadata": {
        "id": "YSW8V50fE1nn"
      },
      "source": [
        "X=Z\n",
        "import numpy as np\n",
        "my_list = [2,4,6,8,10]\n",
        "X = np.array(Z)\n",
        "X=np.transpose(X)"
      ],
      "execution_count": null,
      "outputs": []
    },
    {
      "cell_type": "code",
      "metadata": {
        "id": "xxq6_G46DLCm"
      },
      "source": [
        "from sklearn.cluster import KMeans\n",
        "import matplotlib.pyplot as plt\n",
        "\n",
        "kmeans = KMeans(n_clusters=5)\n",
        "kmeans.fit(X)\n",
        "y_kmeans = kmeans.predict(X)\n"
      ],
      "execution_count": null,
      "outputs": []
    },
    {
      "cell_type": "code",
      "metadata": {
        "id": "pXABiUyEDn_Q"
      },
      "source": [
        "plt.scatter(X[:, 0], X[:, 1], c=y_kmeans, s=50, cmap='viridis')\n",
        "\n",
        "centers = kmeans.cluster_centers_\n",
        "plt.scatter(centers[:, 0], centers[:, 1], c='black', s=200, alpha=0.5);\n",
        "print(centers)\n"
      ],
      "execution_count": null,
      "outputs": []
    },
    {
      "cell_type": "code",
      "metadata": {
        "id": "326pJTGRFpeI"
      },
      "source": [
        "from sklearn.preprocessing import PolynomialFeatures\n",
        "from sklearn.linear_model import LinearRegression\n",
        "poly = PolynomialFeatures(degree=2)\n",
        "S=X[:, 0]\n",
        "Y=X[:, 1]\n",
        "Y=Y.reshape((-1, 1))\n",
        "S=S.reshape((-1, 1))\n",
        "\n",
        "X_ = poly.fit_transform(S)\n",
        "lg = LinearRegression()\n",
        "\n",
        "# Fit\n",
        "lg.fit(X_, Y)\n",
        "\n",
        "# Obtain coefficients\n",
        "print(lg.coef_)\n",
        "print(lg.intercept_)\n",
        "Y1=1.22652574e-02*S+49.2330875\n",
        "plt.plot(S, Y1)\n",
        "plt.scatter(S,Y,color='purple')\n",
        "plt.show()"
      ],
      "execution_count": null,
      "outputs": []
    }
  ]
}