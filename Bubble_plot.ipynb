{
  "nbformat": 4,
  "nbformat_minor": 0,
  "metadata": {
    "colab": {
      "name": "Bubble plot.ipynb",
      "private_outputs": true,
      "provenance": [],
      "collapsed_sections": [],
      "authorship_tag": "ABX9TyPboCVbcgF/bGyp4mO5OlvQ",
      "include_colab_link": true
    },
    "kernelspec": {
      "name": "python3",
      "display_name": "Python 3"
    },
    "language_info": {
      "name": "python"
    }
  },
  "cells": [
    {
      "cell_type": "markdown",
      "metadata": {
        "id": "view-in-github",
        "colab_type": "text"
      },
      "source": [
        "<a href=\"https://colab.research.google.com/github/ArefPhD/General-training/blob/main/Bubble_plot.ipynb\" target=\"_parent\"><img src=\"https://colab.research.google.com/assets/colab-badge.svg\" alt=\"Open In Colab\"/></a>"
      ]
    },
    {
      "cell_type": "code",
      "metadata": {
        "id": "ovNbKjjnEzMi"
      },
      "source": [
        "# libraries\n",
        "import matplotlib.pyplot as plt\n",
        "import numpy as np\n",
        " \n",
        "# create data\n",
        "x = np.random.rand(40)\n",
        "y = np.random.rand(40)\n",
        "z = np.random.rand(40)\n",
        " \n",
        "# use the scatter function\n",
        "plt.scatter(x, y, z*1000, alpha=0.5)\n",
        "\n",
        "# show the graph\n",
        "plt.show()"
      ],
      "execution_count": null,
      "outputs": []
    }
  ]
}