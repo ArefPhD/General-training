{
  "nbformat": 4,
  "nbformat_minor": 0,
  "metadata": {
    "colab": {
      "name": "Decisiontreeclassifier.ipynb",
      "private_outputs": true,
      "provenance": [],
      "authorship_tag": "ABX9TyNbSk0HaC/uo6orXahMDKjg",
      "include_colab_link": true
    },
    "kernelspec": {
      "name": "python3",
      "display_name": "Python 3"
    },
    "language_info": {
      "name": "python"
    }
  },
  "cells": [
    {
      "cell_type": "markdown",
      "metadata": {
        "id": "view-in-github",
        "colab_type": "text"
      },
      "source": [
        "<a href=\"https://colab.research.google.com/github/ArefPhD/General-training/blob/main/Decisiontreeclassifier.ipynb\" target=\"_parent\"><img src=\"https://colab.research.google.com/assets/colab-badge.svg\" alt=\"Open In Colab\"/></a>"
      ]
    },
    {
      "cell_type": "code",
      "metadata": {
        "id": "5xzg3-GitNXs"
      },
      "source": [
        "import numpy as np"
      ],
      "execution_count": null,
      "outputs": []
    },
    {
      "cell_type": "code",
      "metadata": {
        "id": "lwZkOVOLtDF9"
      },
      "source": [
        "from sklearn import tree\n",
        "X = np.array([[0.2351, 0.4016], [-0.1746,\t-0.1916], [0.3057,\t-0.9394],\n",
        "              [0.5590,\t0.6353], [-0.66,\t-0.1175]])\n",
        "y=np.array([[1], [1], [0],\n",
        "              [0], [0]])\n",
        "clf = tree.DecisionTreeClassifier()\n",
        "clf = clf.fit(X, y)"
      ],
      "execution_count": null,
      "outputs": []
    },
    {
      "cell_type": "code",
      "metadata": {
        "id": "vcNoLEwJtJxc"
      },
      "source": [
        "clf.predict([[2., 2.]])"
      ],
      "execution_count": null,
      "outputs": []
    }
  ]
}