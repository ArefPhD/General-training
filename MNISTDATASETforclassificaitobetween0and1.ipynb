{
  "nbformat": 4,
  "nbformat_minor": 0,
  "metadata": {
    "colab": {
      "name": "Copy of Untitled51.ipynb",
      "private_outputs": true,
      "provenance": [],
      "authorship_tag": "ABX9TyO+FE/it1udqvem5eAVUVCv",
      "include_colab_link": true
    },
    "kernelspec": {
      "name": "python3",
      "display_name": "Python 3"
    },
    "language_info": {
      "name": "python"
    }
  },
  "cells": [
    {
      "cell_type": "markdown",
      "metadata": {
        "id": "view-in-github",
        "colab_type": "text"
      },
      "source": [
        "<a href=\"https://colab.research.google.com/github/ArefPhD/General-training/blob/main/MNISTDATASETforclassificaitobetween0and1.ipynb\" target=\"_parent\"><img src=\"https://colab.research.google.com/assets/colab-badge.svg\" alt=\"Open In Colab\"/></a>"
      ]
    },
    {
      "cell_type": "code",
      "metadata": {
        "id": "-NJ__MsTCZVW"
      },
      "source": [
        "import tensorflow as tf"
      ],
      "execution_count": null,
      "outputs": []
    },
    {
      "cell_type": "code",
      "metadata": {
        "id": "IkpvHh75CVyc"
      },
      "source": [
        "tf.compat.v1.enable_eager_execution()"
      ],
      "execution_count": null,
      "outputs": []
    },
    {
      "cell_type": "code",
      "metadata": {
        "id": "7EcaapyclgXl"
      },
      "source": [
        "from google.colab import files\n",
        "uploaded=files.upload()"
      ],
      "execution_count": null,
      "outputs": []
    },
    {
      "cell_type": "code",
      "metadata": {
        "id": "x5IhIlfA6CQx"
      },
      "source": [
        "import tensorflow.compat.v1 as tf\n",
        "tf.disable_v2_behavior()"
      ],
      "execution_count": null,
      "outputs": []
    },
    {
      "cell_type": "code",
      "metadata": {
        "id": "E1mM8PjdrN6C"
      },
      "source": [
        "from google.colab import files\n",
        "uploaded=files.upload()"
      ],
      "execution_count": null,
      "outputs": []
    },
    {
      "cell_type": "code",
      "metadata": {
        "id": "cdVqjMM3r8jb"
      },
      "source": [
        "from keras.preprocessing.image import img_to_array\n",
        "from PIL import Image\n",
        "import matplotlib.pyplot as plt\n"
      ],
      "execution_count": null,
      "outputs": []
    },
    {
      "cell_type": "code",
      "metadata": {
        "id": "XW6BVjXSJfxM"
      },
      "source": [
        "L=tf.Variable(tf.ones(shape=[100, 100]), dtype=tf.float32)\n",
        "L1=tf.Variable(tf.ones(shape=[100, 100]), dtype=tf.float32)"
      ],
      "execution_count": null,
      "outputs": []
    },
    {
      "cell_type": "code",
      "metadata": {
        "id": "Sw8uR-kwFKec"
      },
      "source": [
        "img = Image.open('image1.png')\n",
        "pil_img = tf.keras.preprocessing.image.img_to_array(img)\n",
        "img1 = Image.open('image2.png')\n",
        "\n",
        "pil_img1 = tf.keras.preprocessing.image.img_to_array(img1)\n",
        "\n",
        "\n",
        "L=tf.reshape(pil_img, [28, 28])\n",
        "L1=tf.reshape(pil_img1, [28, 28])\n",
        "t1 = L\n",
        "t2 = L1\n",
        "eldo=tf.concat([t1, t2], 0)"
      ],
      "execution_count": null,
      "outputs": []
    },
    {
      "cell_type": "code",
      "metadata": {
        "id": "g8WFD89PDs1B"
      },
      "source": [
        "for i in range(2, 500):\n",
        "    if i<250:\n",
        "       S=str(i)\n",
        "       \n",
        "       S='image'+S+'.png'\n",
        " \n",
        "    else:\n",
        "       S=str(9500-i)\n",
        "\n",
        "       S='image'+S+'.png'\n",
        "    img = Image.open(S)\n",
        "    pil_img = tf.keras.preprocessing.image.img_to_array(img)\n",
        "    L=tf.reshape(pil_img, [28, 28])\n",
        "    t1 = L\n",
        "\n",
        "    eldo=tf.concat([eldo, t1], 0)\n"
      ],
      "execution_count": null,
      "outputs": []
    },
    {
      "cell_type": "code",
      "metadata": {
        "id": "4ja6QS8mM_JD"
      },
      "source": [
        "eldo.shape"
      ],
      "execution_count": null,
      "outputs": []
    },
    {
      "cell_type": "code",
      "metadata": {
        "id": "_HcIn_t-Gcj6"
      },
      "source": [
        "eldo=tf.reshape(eldo, [500, 28, 28])\n",
        "eldo.shape"
      ],
      "execution_count": null,
      "outputs": []
    },
    {
      "cell_type": "code",
      "metadata": {
        "id": "6Z1NGuoyGTfs"
      },
      "source": [
        "L=eldo[99]\n",
        "with tf.Session() as sess:   \n",
        "    tf.initialize_all_variables().run() # need to initialize all variables\n",
        "\n",
        "    print('tfc:\\n', L.eval())\n",
        "    print(L.shape)\n"
      ],
      "execution_count": null,
      "outputs": []
    },
    {
      "cell_type": "code",
      "metadata": {
        "id": "VD25g51CLrM_"
      },
      "source": [
        "L=tf.reshape(L, [28, 28, 1])\n"
      ],
      "execution_count": null,
      "outputs": []
    },
    {
      "cell_type": "code",
      "metadata": {
        "id": "tf3_S_dkLWyZ"
      },
      "source": [
        "from keras import backend as K\n",
        "firstimage = K.eval(L)\n"
      ],
      "execution_count": null,
      "outputs": []
    },
    {
      "cell_type": "markdown",
      "metadata": {
        "id": "FL_PB2hEOt-S"
      },
      "source": [
        "Seeing the first image"
      ]
    },
    {
      "cell_type": "code",
      "metadata": {
        "id": "O147uX6OLMV5"
      },
      "source": [
        "pil_img = tf.keras.preprocessing.image.array_to_img(firstimage)\n",
        "pil_img"
      ],
      "execution_count": null,
      "outputs": []
    },
    {
      "cell_type": "markdown",
      "metadata": {
        "id": "3M4QY550OwoJ"
      },
      "source": [
        "Now we have to turn our tensor into a numpy array"
      ]
    },
    {
      "cell_type": "code",
      "metadata": {
        "id": "iXuysmvoO0Cl"
      },
      "source": [
        "from keras import backend as K\n",
        "eldo = K.eval(eldo)\n"
      ],
      "execution_count": null,
      "outputs": []
    },
    {
      "cell_type": "markdown",
      "metadata": {
        "id": "FQ2Wz0k5O5mG"
      },
      "source": [
        "check the eldo file that has X-train images"
      ]
    },
    {
      "cell_type": "code",
      "metadata": {
        "id": "Q6RmwTvtO8o8"
      },
      "source": [
        "eldo"
      ],
      "execution_count": null,
      "outputs": []
    },
    {
      "cell_type": "markdown",
      "metadata": {
        "id": "72SndydcQsbU"
      },
      "source": [
        "Coding manually Bridges as zero and trees as one"
      ]
    },
    {
      "cell_type": "code",
      "metadata": {
        "id": "XGJqWEyYi56q"
      },
      "source": [
        "import numpy as np"
      ],
      "execution_count": null,
      "outputs": []
    },
    {
      "cell_type": "code",
      "metadata": {
        "id": "eM11vMG7PMBU"
      },
      "source": [
        "firstpart=np.zeros(250,dtype='float32')\n",
        "secondpart=np.ones(250,dtype='float32')\n",
        "y_train_eldo=np.concatenate((firstpart, secondpart), axis=0)\n",
        "x_train_eldo=eldo"
      ],
      "execution_count": null,
      "outputs": []
    },
    {
      "cell_type": "markdown",
      "metadata": {
        "id": "gD1lAVsnRVW0"
      },
      "source": [
        "Creating test set similar to train set"
      ]
    },
    {
      "cell_type": "code",
      "metadata": {
        "id": "BKHA3hm_RZAz"
      },
      "source": [
        "img = Image.open('image250.png')\n",
        "pil_img = tf.keras.preprocessing.image.img_to_array(img)\n",
        "img1 = Image.open('image251.png')\n",
        "\n",
        "pil_img1 = tf.keras.preprocessing.image.img_to_array(img1)\n",
        "\n",
        "\n",
        "L=tf.reshape(pil_img, [28, 28])\n",
        "L1=tf.reshape(pil_img1, [28, 28])\n",
        "t1 = L\n",
        "t2 = L1\n",
        "eldo_test=tf.concat([t1, t2], 0)"
      ],
      "execution_count": null,
      "outputs": []
    },
    {
      "cell_type": "code",
      "metadata": {
        "id": "Zm5SDAx8RC-n"
      },
      "source": [
        "for i in range(2,50):\n",
        "    if i<25:\n",
        "       S=str(i+251)\n",
        "       NA='image'\n",
        "       S=NA+S+'.png'\n",
        " \n",
        "    else:\n",
        "       S=str(i+9000)\n",
        "\n",
        "       NA='image'\n",
        "       S=NA+S+'.png'\n",
        "    img = Image.open(S)\n",
        "    pil_img = tf.keras.preprocessing.image.img_to_array(img)\n",
        "    L=tf.reshape(pil_img, [28, 28])\n",
        "    t1 = L\n",
        "\n",
        "    eldo_test=tf.concat([eldo_test, t1], 0)"
      ],
      "execution_count": null,
      "outputs": []
    },
    {
      "cell_type": "code",
      "metadata": {
        "id": "2v14d-FtSOXL"
      },
      "source": [
        "eldo_test=tf.reshape(eldo_test, [50, 28, 28])\n",
        "eldo_test.shape"
      ],
      "execution_count": null,
      "outputs": []
    },
    {
      "cell_type": "markdown",
      "metadata": {
        "id": "rc-KE27jR9YD"
      },
      "source": [
        "Coding test test manually similar to train set"
      ]
    },
    {
      "cell_type": "code",
      "metadata": {
        "id": "_N29VhgbSo2-"
      },
      "source": [
        "from keras import backend as K\n",
        "eldo_test = K.eval(eldo_test)"
      ],
      "execution_count": null,
      "outputs": []
    },
    {
      "cell_type": "code",
      "metadata": {
        "id": "7ZmW9UwQSA9C"
      },
      "source": [
        "firstpart=np.zeros(25,dtype='float32')\n",
        "secondpart=np.ones(25,dtype='float32')\n",
        "y_test_eldo=np.concatenate((firstpart, secondpart), axis=0)\n",
        "x_test_eldo=eldo_test"
      ],
      "execution_count": null,
      "outputs": []
    },
    {
      "cell_type": "code",
      "metadata": {
        "id": "HG6E2OwbSHkQ"
      },
      "source": [
        "x_test_eldo"
      ],
      "execution_count": null,
      "outputs": []
    },
    {
      "cell_type": "code",
      "metadata": {
        "id": "Gv5FZFVDYSjk"
      },
      "source": [
        "import tensorflow as tf\n",
        "\n",
        "x_train_eldo, x_test_eldo = x_train_eldo / 255.0, x_test_eldo / 255.0\n",
        "model = tf.keras.models.Sequential([\n",
        "  tf.keras.layers.Flatten(input_shape=(28, 28)),\n",
        "  tf.keras.layers.Dense(128, activation='relu'),\n",
        "  tf.keras.layers.Dropout(0.2),\n",
        "  tf.keras.layers.Dense(2)\n",
        "])\n",
        "\n",
        "\n",
        "x_train_eldo[:1]\n",
        "\n",
        "predictions = model(x_train_eldo[:1])\n",
        "predictions\n",
        "\n",
        "tf.nn.softmax(predictions)\n",
        "loss_fn = tf.keras.losses.SparseCategoricalCrossentropy(from_logits=True)\n",
        "\n",
        "model.compile(optimizer='adam',\n",
        "              loss=loss_fn,\n",
        "              metrics=['accuracy'])\n",
        "\n",
        "model.fit(x_train_eldo, y_train_eldo, epochs=50)\n",
        "\n",
        "\n",
        "\n",
        "\n",
        "probability_model = tf.keras.Sequential([\n",
        "  model,\n",
        "  tf.keras.layers.Softmax()\n",
        "])\n",
        "\n",
        "\n",
        "\n",
        "\n",
        "probability_model(x_test_eldo[:5])\n"
      ],
      "execution_count": null,
      "outputs": []
    },
    {
      "cell_type": "code",
      "metadata": {
        "id": "oHiZ3iHIlTBb"
      },
      "source": [
        "predictions = model(x_train_eldo[:1])\n",
        "\n",
        "with tf.Session() as sess:   \n",
        "    tf.initialize_all_variables().run() # need to initialize all variables\n",
        "\n",
        "    print('tfc:\\n', predictions.eval())\n",
        "x_train_eldo[:1].shape"
      ],
      "execution_count": null,
      "outputs": []
    },
    {
      "cell_type": "code",
      "metadata": {
        "id": "eV-isXionQ-T"
      },
      "source": [
        "S=x_train_eldo[260]\n",
        "S.shape\n",
        "L=tf.reshape(S, [28, 28, 1])\n",
        "L = K.eval(L)\n",
        "pil_img = tf.keras.preprocessing.image.array_to_img(L)\n",
        "pil_img"
      ],
      "execution_count": null,
      "outputs": []
    },
    {
      "cell_type": "code",
      "metadata": {
        "id": "-2uZ61vmnSaZ"
      },
      "source": [
        "S=x_train_eldo[260]\n",
        "S.shape\n",
        "L=tf.reshape(S, [1, 28, 28])\n",
        "L= K.eval(L)\n",
        "np.argmax(model.predict(L), axis=-1)"
      ],
      "execution_count": null,
      "outputs": []
    }
  ]
}