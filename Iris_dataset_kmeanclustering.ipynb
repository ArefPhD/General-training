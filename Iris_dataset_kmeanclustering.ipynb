{
  "nbformat": 4,
  "nbformat_minor": 0,
  "metadata": {
    "colab": {
      "name": "Iris_dataset_kmeanclustering.ipynb",
      "private_outputs": true,
      "provenance": [],
      "authorship_tag": "ABX9TyPYzR07VTU7wwPMpEp2GaU+",
      "include_colab_link": true
    },
    "kernelspec": {
      "name": "python3",
      "display_name": "Python 3"
    },
    "language_info": {
      "name": "python"
    }
  },
  "cells": [
    {
      "cell_type": "markdown",
      "metadata": {
        "id": "view-in-github",
        "colab_type": "text"
      },
      "source": [
        "<a href=\"https://colab.research.google.com/github/ArefPhD/General-training/blob/main/Iris_dataset_kmeanclustering.ipynb\" target=\"_parent\"><img src=\"https://colab.research.google.com/assets/colab-badge.svg\" alt=\"Open In Colab\"/></a>"
      ]
    },
    {
      "cell_type": "markdown",
      "metadata": {
        "id": "vCh-FSR_uu_3"
      },
      "source": [
        "importing iris data set"
      ]
    },
    {
      "cell_type": "code",
      "metadata": {
        "id": "JRUPJmChuMeX"
      },
      "source": [
        "import matplotlib.pyplot as plt\n",
        "from mpl_toolkits.mplot3d import Axes3D\n",
        "from sklearn import datasets\n",
        "from sklearn.decomposition import PCA\n",
        "\n",
        "# import some data to play with\n",
        "iris = datasets.load_iris()\n",
        "X = iris.data[:, :2]  # we only take the first two features.\n",
        "y = iris.target\n",
        "print(y)\n"
      ],
      "execution_count": null,
      "outputs": []
    },
    {
      "cell_type": "markdown",
      "metadata": {
        "id": "FRg-lSlqurME"
      },
      "source": [
        "Implementation of classification using k-mean clustering with 3 clusters"
      ]
    },
    {
      "cell_type": "code",
      "metadata": {
        "id": "VF2gcfokuqsh"
      },
      "source": [
        "from sklearn.cluster import KMeans\n",
        "import numpy as np\n",
        "kmeans = KMeans(n_clusters=3, random_state=0).fit(X)\n",
        "kmeans.labels_=y\n",
        "\n",
        "kmeans.predict([[5.1, 3.5]])\n",
        "\n",
        "kmeans.cluster_centers_\n",
        "print(kmeans.predict([[5.1, 3.5]]))\n"
      ],
      "execution_count": null,
      "outputs": []
    }
  ]
}