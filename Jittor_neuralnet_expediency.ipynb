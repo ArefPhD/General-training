{
  "nbformat": 4,
  "nbformat_minor": 0,
  "metadata": {
    "colab": {
      "name": "Jittor_neuralnet_expediency.ipynb",
      "private_outputs": true,
      "provenance": [],
      "authorship_tag": "ABX9TyP62O/LTPFvoxJwoWLgKp6f",
      "include_colab_link": true
    },
    "kernelspec": {
      "name": "python3",
      "display_name": "Python 3"
    },
    "language_info": {
      "name": "python"
    }
  },
  "cells": [
    {
      "cell_type": "markdown",
      "metadata": {
        "id": "view-in-github",
        "colab_type": "text"
      },
      "source": [
        "<a href=\"https://colab.research.google.com/github/ArefPhD/General-training/blob/main/Jittor_neuralnet_expediency.ipynb\" target=\"_parent\"><img src=\"https://colab.research.google.com/assets/colab-badge.svg\" alt=\"Open In Colab\"/></a>"
      ]
    },
    {
      "cell_type": "code",
      "metadata": {
        "id": "n4iex-Hhxq9M"
      },
      "source": [
        "pip install jittor"
      ],
      "execution_count": null,
      "outputs": []
    },
    {
      "cell_type": "code",
      "metadata": {
        "id": "LPBwb18Uxfvw"
      },
      "source": [
        "import jittor as jt\n",
        "from jittor import Module\n",
        "from jittor import nn\n",
        "import numpy as np\n",
        "\n",
        "class Model(Module):\n",
        "    def __init__(self):\n",
        "        self.layer1 = nn.Linear(1, 10)\n",
        "        self.relu = nn.Relu() \n",
        "        self.layer2 = nn.Linear(10, 1)\n",
        "    def execute (self,x) :\n",
        "        x = self.layer1(x)\n",
        "        x = self.relu(x)\n",
        "        x = self.layer2(x)\n",
        "        return x\n",
        "\n",
        "def get_data(n): # generate random data for training test.\n",
        "    for i in range(n):\n",
        "        x = np.random.rand(batch_size, 1)\n",
        "        y = x*x\n",
        "        yield jt.float32(x), jt.float32(y)\n",
        "\n",
        "\n",
        "learning_rate = 0.1\n",
        "batch_size = 50\n",
        "n = 1000\n",
        "\n",
        "model = Model()\n",
        "optim = nn.SGD(model.parameters(), learning_rate)\n",
        "\n",
        "for i,(x,y) in enumerate(get_data(n)):\n",
        "    pred_y = model(x)\n",
        "    dy = pred_y - y\n",
        "    loss = dy * dy\n",
        "    loss_mean = loss.mean()\n",
        "    optim.step(loss_mean)\n",
        "    print(f\"step {i}, loss = {loss_mean.data.sum()}\")"
      ],
      "execution_count": null,
      "outputs": []
    }
  ]
}