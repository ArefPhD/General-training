{
  "nbformat": 4,
  "nbformat_minor": 0,
  "metadata": {
    "colab": {
      "name": "changing data frame elements.ipynb",
      "private_outputs": true,
      "provenance": [],
      "authorship_tag": "ABX9TyPlrtfkkm1N1AxvVVADKgcZ",
      "include_colab_link": true
    },
    "kernelspec": {
      "name": "python3",
      "display_name": "Python 3"
    },
    "language_info": {
      "name": "python"
    }
  },
  "cells": [
    {
      "cell_type": "markdown",
      "metadata": {
        "id": "view-in-github",
        "colab_type": "text"
      },
      "source": [
        "<a href=\"https://colab.research.google.com/github/ArefPhD/General-training/blob/main/changing_data_frame_elements.ipynb\" target=\"_parent\"><img src=\"https://colab.research.google.com/assets/colab-badge.svg\" alt=\"Open In Colab\"/></a>"
      ]
    },
    {
      "cell_type": "code",
      "metadata": {
        "id": "TJugj1UN_JVX"
      },
      "source": [
        "import pandas as pd\n",
        "\n",
        "colors = {'first_set':  ['Green','Green','Green','Blue','Blue','Red','Red','Red'],\n",
        "          'second_set': ['Yellow','Yellow','Yellow','White','White','Blue','Blue','Blue']\n",
        "         }\n",
        "\n",
        "df = pd.DataFrame(colors, columns= ['first_set','second_set'])\n",
        "df = df.replace(['Blue','Red'],'Green')\n",
        "\n",
        "print (df)"
      ],
      "execution_count": null,
      "outputs": []
    },
    {
      "cell_type": "code",
      "metadata": {
        "id": "YHAccuVJ_MFQ"
      },
      "source": [
        "colors = {'first_set':  ['Green','Green','Green','Blue','Blue','Red','Red','Red'],\n",
        "          'second_set': ['Yellow','Yellow','Yellow','White','White','Blue','Blue','Blue']\n",
        "         }\n",
        "\n",
        "df = pd.DataFrame(colors, columns= ['first_set','second_set'])\n",
        "df.head(10)"
      ],
      "execution_count": null,
      "outputs": []
    }
  ]
}