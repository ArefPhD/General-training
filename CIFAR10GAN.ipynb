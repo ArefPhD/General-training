{
  "nbformat": 4,
  "nbformat_minor": 0,
  "metadata": {
    "colab": {
      "name": "Untitled77.ipynb",
      "private_outputs": true,
      "provenance": [],
      "authorship_tag": "ABX9TyNnlQw5TThL5ci06t9eYlK3",
      "include_colab_link": true
    },
    "kernelspec": {
      "name": "python3",
      "display_name": "Python 3"
    },
    "language_info": {
      "name": "python"
    }
  },
  "cells": [
    {
      "cell_type": "markdown",
      "metadata": {
        "id": "view-in-github",
        "colab_type": "text"
      },
      "source": [
        "<a href=\"https://colab.research.google.com/github/ArefPhD/General-training/blob/main/CIFAR10GAN.ipynb\" target=\"_parent\"><img src=\"https://colab.research.google.com/assets/colab-badge.svg\" alt=\"Open In Colab\"/></a>"
      ]
    },
    {
      "cell_type": "code",
      "metadata": {
        "id": "Gc6YTeCfQgXq"
      },
      "source": [
        "import keras\n",
        "from keras.layers import Dense, Conv2DTranspose, LeakyReLU, Reshape, BatchNormalization, Activation, Conv2D\n",
        "from keras.models import Model, Sequential\n",
        "\n",
        "\n",
        "def generador_de_imagenes():\n",
        "\n",
        "    generador = Sequential()\n",
        "\n",
        "    generador.add(Dense(256*4*4, input_shape = (100,)))\n",
        "    #generador.add(BatchNormalization())\n",
        "    generador.add(LeakyReLU())\n",
        "    generador.add(Reshape((4,4,256)))\n",
        "\n",
        "    generador.add(Conv2DTranspose(128,kernel_size=3, strides=2, padding = \"same\"))\n",
        "    #generador.add(BatchNormalization())\n",
        "    generador.add(LeakyReLU(alpha=0.2))\n",
        "\n",
        "\n",
        "    generador.add(Conv2DTranspose(128,kernel_size=3, strides=2, padding = \"same\"))\n",
        "    #generador.add(BatchNormalization())\n",
        "    generador.add(LeakyReLU(alpha=0.2))\n",
        "\n",
        "    generador.add(Conv2DTranspose(128,kernel_size=3, strides=2, padding = \"same\"))\n",
        "    #generador.add(BatchNormalization())\n",
        "    generador.add(LeakyReLU(alpha=0.2))\n",
        "\n",
        "    generador.add(Conv2D(3,kernel_size=3, padding = \"same\", activation='tanh'))\n",
        "\n",
        "    return(generador)\n",
        "\n",
        "modelo_generador = generador_de_imagenes()\n",
        "\n",
        "modelo_generador.summary()"
      ],
      "execution_count": null,
      "outputs": []
    },
    {
      "cell_type": "code",
      "metadata": {
        "id": "zj_2MswRQlT7"
      },
      "source": [
        "import matplotlib.pyplot as plt\n",
        "import numpy as np\n",
        "\n",
        "# Definir datos de entrada\n",
        "def generar_datos_entrada(n_muestras):\n",
        "  X = np.random.randn(100 * n_muestras)\n",
        "  X = X.reshape(n_muestras, 100)\n",
        "  return X\n",
        "\n",
        "def crear_datos_fake(modelo_generador, n_muestras):\n",
        "  input = generar_datos_entrada(n_muestras)\n",
        "  X = modelo_generador.predict(input)\n",
        "  y = np.zeros((n_muestras, 1))\n",
        "  return X,y\n",
        "\n",
        "numero_muestras = 4\n",
        "X,_ = crear_datos_fake(modelo_generador, numero_muestras)\n",
        "\n",
        "# Visualizamos resultados\n",
        "for i in range(numero_muestras):\n",
        "    plt.subplot(2, 2, 1 + i)\n",
        "    plt.axis('off')\n",
        "    plt.imshow(X[i])"
      ],
      "execution_count": null,
      "outputs": []
    },
    {
      "cell_type": "code",
      "metadata": {
        "id": "2bYV2AHvQ9nl"
      },
      "source": [
        "from keras.layers import Conv2D, Flatten, Dropout\n",
        "from keras.optimizers import Adam\n",
        "\n",
        "def discriminador_de_imagenes():\n",
        "\n",
        "    discriminador = Sequential()\n",
        "    discriminador.add(Conv2D(64, kernel_size=3, padding = \"same\", input_shape = (32,32,3)))\n",
        "    discriminador.add(LeakyReLU(alpha=0.2))\n",
        "    #discriminador.add(Dropout(0.2))\n",
        "\n",
        "    discriminador.add(Conv2D(128, kernel_size=3,strides=(2,2), padding = \"same\"))\n",
        "    discriminador.add(LeakyReLU(alpha=0.2))\n",
        "    #discriminador.add(Dropout(0.2))\n",
        "\n",
        "    discriminador.add(Conv2D(128, kernel_size=3,strides=(2,2), padding = \"same\"))\n",
        "    discriminador.add(LeakyReLU(alpha=0.2))\n",
        "    #discriminador.add(Dropout(0.2))\n",
        "\n",
        "    discriminador.add(Conv2D(256, kernel_size=3, strides=(2,2), padding = \"same\"))\n",
        "    discriminador.add(LeakyReLU(alpha=0.2))\n",
        "    #discriminador.add(Dropout(0.2))\n",
        "\n",
        "    discriminador.add(Flatten())\n",
        "    discriminador.add(Dropout(0.4))\n",
        "    discriminador.add(Dense(1, activation='sigmoid'))\n",
        "\n",
        "    opt = Adam(lr=0.0002 ,beta_1=0.5)\n",
        "    discriminador.compile(loss='binary_crossentropy', optimizer= opt , metrics = ['accuracy'])\n",
        "\n",
        "    return(discriminador)\n",
        "\n",
        "modelo_discriminador = discriminador_de_imagenes()\n",
        "modelo_discriminador.summary()"
      ],
      "execution_count": null,
      "outputs": []
    },
    {
      "cell_type": "code",
      "metadata": {
        "id": "DRd1h74GRBGh"
      },
      "source": [
        "from keras.datasets import cifar10\n",
        "\n",
        "def cargar_imagenes():\n",
        "    (Xtrain, Ytrain), (_, _) = cifar10.load_data()\n",
        "\n",
        "    # Nos quedamos con los perros\n",
        "    indice = np.where(Ytrain == 0)\n",
        "    indice = indice[0]\n",
        "    Xtrain = Xtrain[indice, :,:,:]\n",
        "\n",
        "    # Normalizamos los datos\n",
        "    X = Xtrain.astype('float32')\n",
        "    X = (X - 127.5) / 127.5\n",
        "\n",
        "    return X\n",
        "\n",
        "print(cargar_imagenes().shape)"
      ],
      "execution_count": null,
      "outputs": []
    },
    {
      "cell_type": "code",
      "metadata": {
        "id": "b16WvUUURFgd"
      },
      "source": [
        "import random\n",
        "\n",
        "def cargar_datos_reales(dataset, n_muestras):\n",
        "  ix = np.random.randint(0, dataset.shape[0], n_muestras)\n",
        "  X = dataset[ix]\n",
        "  y = np.ones((n_muestras, 1))\n",
        "  return X,y\n",
        "\n",
        "def cargar_datos_fake(n_muestras):\n",
        "  X = np.random.rand(32 * 32 * 3 * n_muestras)\n",
        "  X = -1 + X * 2\n",
        "  X = X.reshape((n_muestras, 32,32,3))\n",
        "  y = np.zeros((n_muestras, 1))\n",
        "  return X,y"
      ],
      "execution_count": null,
      "outputs": []
    },
    {
      "cell_type": "code",
      "metadata": {
        "id": "_OwynO66RI-v"
      },
      "source": [
        "def entrenar_discriminador(modelo, dataset, n_iteraciones=20, batch = 128):\n",
        "  medio_batch = int(batch/2)\n",
        "\n",
        "  for i in range(n_iteraciones):\n",
        "    X_real, y_real = cargar_datos_reales(dataset, medio_batch)\n",
        "    _, acc_real = modelo.train_on_batch(X_real, y_real)\n",
        "\n",
        "    X_fake, y_fake = cargar_datos_fake(medio_batch)\n",
        "    _, acc_fake = modelo.train_on_batch(X_fake, y_fake)\n",
        "\n",
        "    print(str(i+1) + ' Real:' + str(acc_real*100) + ', Fake:' + str(acc_fake*100))"
      ],
      "execution_count": null,
      "outputs": []
    },
    {
      "cell_type": "code",
      "metadata": {
        "id": "AmLV8zl_RLPP"
      },
      "source": [
        "dataset = cargar_imagenes()\n",
        "entrenar_discriminador(modelo_discriminador, dataset)"
      ],
      "execution_count": null,
      "outputs": []
    },
    {
      "cell_type": "code",
      "metadata": {
        "id": "80h9TNO4RS9c"
      },
      "source": [
        "def crear_gan(discriminador, generador):\n",
        "    discriminador.trainable=False\n",
        "    gan = Sequential()\n",
        "    gan.add(generador)\n",
        "    gan.add(discriminador)\n",
        "\n",
        "    opt = Adam(lr=0.0002,beta_1=0.5) \n",
        "    gan.compile(loss = \"binary_crossentropy\", optimizer = opt)\n",
        "\n",
        "    return gan\n",
        "\n",
        "gan = crear_gan(modelo_discriminador,modelo_generador)\n",
        "gan.summary()"
      ],
      "execution_count": null,
      "outputs": []
    },
    {
      "cell_type": "code",
      "metadata": {
        "id": "aoq5JG5hRyvE"
      },
      "source": [
        "import pandas as pd\n",
        "import matplotlib.pyplot as plt\n",
        "%matplotlib inline\n",
        "from datetime import datetime\n",
        "\n",
        "def mostrar_imagenes_generadas(datos_fake, epoch):\n",
        "\n",
        "  now = datetime.now()\n",
        "  now = now.strftime(\"%Y%m%d_%H%M%S\")\n",
        "\n",
        "  # Hacemos que los datos vayan de 0 a 1\n",
        "  datos_fake = (datos_fake + 1) / 2.0\n",
        "\n",
        "  for i in range(10):\n",
        "    plt.imshow(datos_fake[i])\n",
        "    plt.axis('off')\n",
        "    nombre = str(epoch) + '_imagen_generada_' + str(i) + '.png'\n",
        "    plt.savefig(nombre, bbox_inches='tight')\n",
        "    plt.close()"
      ],
      "execution_count": null,
      "outputs": []
    },
    {
      "cell_type": "code",
      "metadata": {
        "id": "ok6W3pkgR3YD"
      },
      "source": [
        "def evaluar_y_guardar(modelo_generador, epoch, medio_dataset):\n",
        "\n",
        "  # We save the model\n",
        "  now = datetime.now()\n",
        "  now = now.strftime(\"%Y%m%d_%H%M%S\")\n",
        "  nombre = str(epoch) + '_' + str(now)+\"_modelo_generador_\" + '.h5'\n",
        "  modelo_generador.save(nombre)\n",
        "\n",
        "  # We generate new data\n",
        "  X_real,Y_real = cargar_datos_reales(dataset, medio_dataset)\n",
        "  X_fake, Y_fake =  crear_datos_fake(modelo_generador,medio_dataset)\n",
        "\n",
        "  # We evaluate the model\n",
        "  _, acc_real = modelo_discriminador.evaluate(X_real, Y_real)\n",
        "  _, acc_fake = modelo_discriminador.evaluate(X_fake, Y_fake)\n",
        "\n",
        "  print('Acc Real:' + str(acc_real*100) + '% Acc Fake:' + str(acc_fake*100)+'%')"
      ],
      "execution_count": null,
      "outputs": []
    },
    {
      "cell_type": "code",
      "metadata": {
        "id": "m_BCBFj-R7J5"
      },
      "source": [
        "def entrenamiento(datos, modelo_generador, modelo_discriminador, epochs, n_batch, inicio = 0):\n",
        "  dimension_batch = int(datos.shape[0]/n_batch)\n",
        "  medio_dataset = int(n_batch/2)\n",
        "\n",
        "  # We iterate over the epochs\n",
        "  for epoch in range(inicio, inicio + epochs):\n",
        "    # We iterate over all batches\n",
        "    for batch in range(n_batch):\n",
        "\n",
        "      # We load all the real data\n",
        "      X_real,Y_real = cargar_datos_reales(dataset, medio_dataset)\n",
        "\n",
        "\n",
        "      # We train the discriminator withEnrenamos discriminador con datos reales\n",
        "      coste_discriminador_real, _ = modelo_discriminador.train_on_batch(X_real, Y_real)\n",
        "      X_fake, Y_fake =  crear_datos_fake(modelo_generador,medio_dataset)\n",
        "\n",
        "      coste_discriminador_fake, _ = modelo_discriminador.train_on_batch(X_fake, Y_fake)\n",
        "\n",
        "      # We generate input images for the GAN\n",
        "      X_gan = generar_datos_entrada(medio_dataset)\n",
        "      Y_gan = np.ones((medio_dataset, 1))\n",
        "\n",
        "      # We train the GAN with fake data\n",
        "      coste_gan = gan.train_on_batch(X_gan, Y_gan)\n",
        "\n",
        "    # Every 10 epochs we show the results and cost \n",
        "    if (epoch+1) % 10 == 0:\n",
        "      evaluar_y_guardar(modelo_generador,epoch = epoch, medio_dataset= medio_dataset)\n",
        "      mostrar_imagenes_generadas(X_fake, epoch = epoch)"
      ],
      "execution_count": null,
      "outputs": []
    },
    {
      "cell_type": "code",
      "metadata": {
        "id": "-em4igrwR_je"
      },
      "source": [
        "entrenamiento(dataset, modelo_generador, modelo_discriminador, epochs = 300, n_batch=128, inicio = 0)"
      ],
      "execution_count": null,
      "outputs": []
    },
    {
      "cell_type": "code",
      "metadata": {
        "id": "aSRprjkoSCsz"
      },
      "source": [
        "X_fake, _ = crear_datos_fake(n_muestras=49, modelo_generador=modelo_generador)\n",
        "X_fake = (X_fake+1)/2\n",
        "\n",
        "for i in range(49):\n",
        "  plt.subplot(7,7,i+1)\n",
        "  plt.axis('off')\n",
        "  plt.imshow(X_fake[i])"
      ],
      "execution_count": null,
      "outputs": []
    }
  ]
}