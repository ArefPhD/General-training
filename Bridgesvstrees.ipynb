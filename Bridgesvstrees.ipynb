{
  "nbformat": 4,
  "nbformat_minor": 0,
  "metadata": {
    "colab": {
      "name": "Untitled51.ipynb",
      "private_outputs": true,
      "provenance": [],
      "authorship_tag": "ABX9TyOXHVyTP0xjv17xRIpUl5zm",
      "include_colab_link": true
    },
    "kernelspec": {
      "name": "python3",
      "display_name": "Python 3"
    },
    "language_info": {
      "name": "python"
    }
  },
  "cells": [
    {
      "cell_type": "markdown",
      "metadata": {
        "id": "view-in-github",
        "colab_type": "text"
      },
      "source": [
        "<a href=\"https://colab.research.google.com/github/ArefPhD/General-training/blob/main/Bridgesvstrees.ipynb\" target=\"_parent\"><img src=\"https://colab.research.google.com/assets/colab-badge.svg\" alt=\"Open In Colab\"/></a>"
      ]
    },
    {
      "cell_type": "code",
      "metadata": {
        "id": "-NJ__MsTCZVW"
      },
      "source": [
        "import tensorflow as tf"
      ],
      "execution_count": null,
      "outputs": []
    },
    {
      "cell_type": "code",
      "metadata": {
        "id": "IkpvHh75CVyc"
      },
      "source": [
        "tf.compat.v1.enable_eager_execution()"
      ],
      "execution_count": null,
      "outputs": []
    },
    {
      "cell_type": "code",
      "metadata": {
        "id": "7EcaapyclgXl"
      },
      "source": [
        "from google.colab import files\n",
        "uploaded=files.upload()"
      ],
      "execution_count": null,
      "outputs": []
    },
    {
      "cell_type": "code",
      "metadata": {
        "id": "x5IhIlfA6CQx"
      },
      "source": [
        "import tensorflow.compat.v1 as tf\n",
        "tf.disable_v2_behavior()"
      ],
      "execution_count": null,
      "outputs": []
    },
    {
      "cell_type": "code",
      "metadata": {
        "id": "E1mM8PjdrN6C"
      },
      "source": [
        "from google.colab import files\n",
        "uploaded=files.upload()"
      ],
      "execution_count": null,
      "outputs": []
    },
    {
      "cell_type": "code",
      "metadata": {
        "id": "cdVqjMM3r8jb"
      },
      "source": [
        "from keras.preprocessing.image import img_to_array\n",
        "from PIL import Image\n",
        "import matplotlib.pyplot as plt\n"
      ],
      "execution_count": null,
      "outputs": []
    },
    {
      "cell_type": "code",
      "metadata": {
        "id": "XW6BVjXSJfxM"
      },
      "source": [
        "L=tf.Variable(tf.ones(shape=[100, 100]), dtype=tf.float32)\n",
        "L1=tf.Variable(tf.ones(shape=[100, 100]), dtype=tf.float32)"
      ],
      "execution_count": null,
      "outputs": []
    },
    {
      "cell_type": "code",
      "metadata": {
        "id": "Sw8uR-kwFKec"
      },
      "source": [
        "img = Image.open('Bridge0.jpg')\n",
        "pil_img = tf.keras.preprocessing.image.img_to_array(img)\n",
        "img1 = Image.open('Bridge1.jpg')\n",
        "\n",
        "pil_img1 = tf.keras.preprocessing.image.img_to_array(img1)\n",
        "\n",
        "\n",
        "L=tf.reshape(pil_img, [100, 100])\n",
        "L1=tf.reshape(pil_img1, [100, 100])\n",
        "t1 = L\n",
        "t2 = L1\n",
        "eldo=tf.concat([t1, t2], 0)"
      ],
      "execution_count": null,
      "outputs": []
    },
    {
      "cell_type": "code",
      "metadata": {
        "id": "ZILvZT-0Nmtp"
      },
      "source": [
        "for i in range(2, 10):\n",
        "  print(i)"
      ],
      "execution_count": null,
      "outputs": []
    },
    {
      "cell_type": "code",
      "metadata": {
        "id": "g8WFD89PDs1B"
      },
      "source": [
        "\n",
        "for i in range(2, 100):\n",
        "    if i<50:\n",
        "       S=str(i)\n",
        "       NA='Bridge'\n",
        "       S=NA+S+'.jpg'\n",
        " \n",
        "    else:\n",
        "       S=str(i-50)\n",
        "\n",
        "       NA='tree'\n",
        "       S=NA+S+'.jpg'\n",
        "    img = Image.open(S)\n",
        "    pil_img = tf.keras.preprocessing.image.img_to_array(img)\n",
        "    L=tf.reshape(pil_img, [100, 100])\n",
        "    t1 = L\n",
        "\n",
        "    eldo=tf.concat([eldo, t1], 0)\n"
      ],
      "execution_count": null,
      "outputs": []
    },
    {
      "cell_type": "code",
      "metadata": {
        "id": "4ja6QS8mM_JD"
      },
      "source": [
        "eldo.shape"
      ],
      "execution_count": null,
      "outputs": []
    },
    {
      "cell_type": "code",
      "metadata": {
        "id": "_HcIn_t-Gcj6"
      },
      "source": [
        "eldo=tf.reshape(eldo, [100, 100, 100])\n",
        "eldo.shape"
      ],
      "execution_count": null,
      "outputs": []
    },
    {
      "cell_type": "code",
      "metadata": {
        "id": "6Z1NGuoyGTfs"
      },
      "source": [
        "L=eldo[99]\n",
        "with tf.Session() as sess:   \n",
        "    tf.initialize_all_variables().run() # need to initialize all variables\n",
        "\n",
        "    print('tfc:\\n', L.eval())\n",
        "    print(L.shape)\n"
      ],
      "execution_count": null,
      "outputs": []
    },
    {
      "cell_type": "code",
      "metadata": {
        "id": "VD25g51CLrM_"
      },
      "source": [
        "L=tf.reshape(L, [100, 100, 1])\n"
      ],
      "execution_count": null,
      "outputs": []
    },
    {
      "cell_type": "code",
      "metadata": {
        "id": "tf3_S_dkLWyZ"
      },
      "source": [
        "from keras import backend as K\n",
        "firstimage = K.eval(L)\n"
      ],
      "execution_count": null,
      "outputs": []
    },
    {
      "cell_type": "markdown",
      "metadata": {
        "id": "FL_PB2hEOt-S"
      },
      "source": [
        "Seeing the first image"
      ]
    },
    {
      "cell_type": "code",
      "metadata": {
        "id": "O147uX6OLMV5"
      },
      "source": [
        "pil_img = tf.keras.preprocessing.image.array_to_img(firstimage)\n",
        "pil_img"
      ],
      "execution_count": null,
      "outputs": []
    },
    {
      "cell_type": "markdown",
      "metadata": {
        "id": "3M4QY550OwoJ"
      },
      "source": [
        "Now we have to turn our tensor into a numpy array"
      ]
    },
    {
      "cell_type": "code",
      "metadata": {
        "id": "iXuysmvoO0Cl"
      },
      "source": [
        "from keras import backend as K\n",
        "eldo = K.eval(eldo)\n"
      ],
      "execution_count": null,
      "outputs": []
    },
    {
      "cell_type": "markdown",
      "metadata": {
        "id": "FQ2Wz0k5O5mG"
      },
      "source": [
        "check the eldo file that has X-train images"
      ]
    },
    {
      "cell_type": "code",
      "metadata": {
        "id": "Q6RmwTvtO8o8"
      },
      "source": [
        "eldo.shape"
      ],
      "execution_count": null,
      "outputs": []
    },
    {
      "cell_type": "code",
      "metadata": {
        "id": "Gv5FZFVDYSjk"
      },
      "source": [
        "import tensorflow as tf\n",
        "mnist = tf.keras.datasets.mnist\n",
        "\n",
        "(x_train, y_train), (x_test, y_test) = mnist.load_data()\n",
        "x_train, x_test = x_train / 255.0, x_test / 255.0\n",
        "model = tf.keras.models.Sequential([\n",
        "  tf.keras.layers.Flatten(input_shape=(100, 100)),\n",
        "  tf.keras.layers.Dense(128, activation='relu'),\n",
        "  tf.keras.layers.Dropout(0.2),\n",
        "  tf.keras.layers.Dense(10)\n",
        "])\n",
        "\n",
        "\n",
        "x_train[:1]\n",
        "\n",
        "predictions = model(x_train[:1]).numpy()\n",
        "predictions\n",
        "\n",
        "tf.nn.softmax(predictions).numpy()\n",
        "\n",
        "loss_fn = tf.keras.losses.SparseCategoricalCrossentropy(from_logits=True)\n",
        "\n",
        "model.compile(optimizer='adam',\n",
        "              loss=loss_fn,\n",
        "              metrics=['accuracy'])\n",
        "\n",
        "model.fit(x_train, y_train, epochs=5)\n",
        "\n",
        "\n",
        "\n",
        "\n",
        "probability_model = tf.keras.Sequential([\n",
        "  model,\n",
        "  tf.keras.layers.Softmax()\n",
        "])\n",
        "\n",
        "\n",
        "\n",
        "\n",
        "probability_model(x_test[:5])\n"
      ],
      "execution_count": null,
      "outputs": []
    },
    {
      "cell_type": "code",
      "metadata": {
        "id": "oHiZ3iHIlTBb"
      },
      "source": [
        "x_train"
      ],
      "execution_count": null,
      "outputs": []
    },
    {
      "cell_type": "code",
      "metadata": {
        "id": "UWMKRtyagbTw"
      },
      "source": [
        " pip install keract"
      ],
      "execution_count": null,
      "outputs": []
    },
    {
      "cell_type": "code",
      "metadata": {
        "id": "bE1KTjrugWtP"
      },
      "source": [
        "# =============================================\n",
        "# Keract visualizations\n",
        "# =============================================\n",
        "from keract import get_activations, display_activations\n",
        "keract_inputs = x_test[:5]\n",
        "keract_targets = y_test[:5]\n",
        "activations = get_activations(model, keract_inputs)\n",
        "display_activations(activations, cmap=\"gray\", save=False)"
      ],
      "execution_count": null,
      "outputs": []
    }
  ]
}