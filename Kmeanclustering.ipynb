{
  "nbformat": 4,
  "nbformat_minor": 0,
  "metadata": {
    "colab": {
      "name": "Untitled15.ipynb",
      "private_outputs": true,
      "provenance": [],
      "authorship_tag": "ABX9TyMQUdQZYTV3VlyagrsyoE6W",
      "include_colab_link": true
    },
    "kernelspec": {
      "name": "python3",
      "display_name": "Python 3"
    },
    "language_info": {
      "name": "python"
    }
  },
  "cells": [
    {
      "cell_type": "markdown",
      "metadata": {
        "id": "view-in-github",
        "colab_type": "text"
      },
      "source": [
        "<a href=\"https://colab.research.google.com/github/ArefPhD/General-training/blob/main/Kmeanclustering.ipynb\" target=\"_parent\"><img src=\"https://colab.research.google.com/assets/colab-badge.svg\" alt=\"Open In Colab\"/></a>"
      ]
    },
    {
      "cell_type": "code",
      "metadata": {
        "id": "yXK-GJtYB0iL"
      },
      "source": [
        "pip install flair"
      ],
      "execution_count": null,
      "outputs": []
    },
    {
      "cell_type": "code",
      "metadata": {
        "id": "AZ5n9Fz_BypJ"
      },
      "source": [
        "# import libraries\n",
        "import pandas as pd\n",
        "import seaborn as sns\n",
        "import flair\n",
        "\n",
        "# configure size of heatmap\n",
        "sns.set(rc={'figure.figsize':(35,3)})\n",
        "\n",
        "# function to visualize\n",
        "def visualise_sentiments(data):\n",
        "  sns.heatmap(pd.DataFrame(data).set_index(\"Sentence\").T,center=0, annot=True, cmap = \"PiYG\")\n",
        "\n",
        "# model\n",
        "flair_sentiment = flair.models.TextClassifier.load('en-sentiment')\n",
        "\n",
        "# text\n",
        "sentence = \"I can be successful at anything\"\n",
        "\n",
        "# sentiment\n",
        "s = flair.data.Sentence(sentence)\n",
        "flair_sentiment.predict(s)\n",
        "total_sentiment = s.labels\n",
        "total_sentiment\n",
        "\n",
        "# tokenize sentiments\n",
        "tokens = [token.text for token in s.tokens]\n",
        "ss = [flair.data.Sentence(s) for s in tokens]\n",
        "[flair_sentiment.predict(s) for s in ss]\n",
        "sentiments = [s.labels[0].score * (-1,1)[str(s.labels[0]).split()[0].startswith(\"POS\")] for s in ss]\n",
        "\n",
        "# heatmap\n",
        "visualise_sentiments({\n",
        "      \"Sentence\":[\"SENTENCE\"] + tokens,\n",
        "      \"Sentiment\":[total_sentiment[0].score *(-1,1)[str(total_sentiment[0]).split()[0].startswith(\"POS\")]] + sentiments,\n",
        "})\n"
      ],
      "execution_count": null,
      "outputs": []
    },
    {
      "cell_type": "code",
      "metadata": {
        "id": "dEObWCg6Pkq6"
      },
      "source": [
        "\n",
        "# Generate and plot a synthetic imbalanced classification dataset\n",
        "from collections import Counter\n",
        "from sklearn.datasets import make_classification\n",
        "from matplotlib import pyplot\n",
        "from numpy import where\n",
        "# define dataset\n",
        "X, y = make_classification(n_samples=10000, n_features=2, n_redundant=0,\n",
        "\tn_clusters_per_class=1, weights=[0.5], flip_y=0, random_state=1)\n",
        "# summarize class distribution\n",
        "counter = Counter(y)\n",
        "print(counter)\n",
        "# scatter plot of examples by class label\n",
        "for label, _ in counter.items():\n",
        "\trow_ix = where(y == label)[0]\n",
        "\tpyplot.scatter(X[row_ix, 0], X[row_ix, 1], label=str(label))\n",
        "pyplot.legend()\n",
        "pyplot.show()\n",
        "plt.savefig('destination_path.eps', format='eps')\n",
        "from google.colab import files\n",
        "files.download('destination_path.eps') "
      ],
      "execution_count": null,
      "outputs": []
    },
    {
      "cell_type": "code",
      "metadata": {
        "id": "Wdtce0aKWMn8"
      },
      "source": [
        "from sklearn.cluster import KMeans\n",
        "import matplotlib.pyplot as plt\n",
        "\n",
        "kmeans = KMeans(n_clusters=10)\n",
        "kmeans.fit(X)\n",
        "y_kmeans = kmeans.predict(X)"
      ],
      "execution_count": null,
      "outputs": []
    },
    {
      "cell_type": "code",
      "metadata": {
        "id": "ybGdGhrqWhSN"
      },
      "source": [
        "plt.scatter(X[:, 0], X[:, 1], c=y_kmeans, s=50, cmap='viridis')\n",
        "\n",
        "centers = kmeans.cluster_centers_\n",
        "plt.scatter(centers[:, 0], centers[:, 1], c='black', s=200, alpha=0.5);"
      ],
      "execution_count": null,
      "outputs": []
    },
    {
      "cell_type": "code",
      "metadata": {
        "id": "3P0iflEOXNfB"
      },
      "source": [
        "X.shape"
      ],
      "execution_count": null,
      "outputs": []
    }
  ]
}