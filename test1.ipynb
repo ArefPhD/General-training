{
  "nbformat": 4,
  "nbformat_minor": 0,
  "metadata": {
    "colab": {
      "name": "Untitled5.ipynb",
      "private_outputs": true,
      "provenance": [],
      "authorship_tag": "ABX9TyNzZVrr9UkdQX+vxO9LEccJ",
      "include_colab_link": true
    },
    "kernelspec": {
      "name": "python3",
      "display_name": "Python 3"
    },
    "language_info": {
      "name": "python"
    }
  },
  "cells": [
    {
      "cell_type": "markdown",
      "metadata": {
        "id": "view-in-github",
        "colab_type": "text"
      },
      "source": [
        "<a href=\"https://colab.research.google.com/github/ArefPhD/General-training/blob/main/test1.ipynb\" target=\"_parent\"><img src=\"https://colab.research.google.com/assets/colab-badge.svg\" alt=\"Open In Colab\"/></a>"
      ]
    },
    {
      "cell_type": "markdown",
      "metadata": {
        "id": "g_rhGDqvriA0"
      },
      "source": [
        "Edabit challenge (Turn string into integer)\n",
        "\n",
        "\n",
        "\n"
      ]
    },
    {
      "cell_type": "code",
      "metadata": {
        "id": "suRDn6NblQvg"
      },
      "source": [
        "txt='6'\n"
      ],
      "execution_count": null,
      "outputs": []
    },
    {
      "cell_type": "code",
      "metadata": {
        "id": "Gl0xinxMlKTN"
      },
      "source": [
        "def string_int(txt):\n",
        "    S=int(txt)\n",
        "    return S\n"
      ],
      "execution_count": null,
      "outputs": []
    },
    {
      "cell_type": "code",
      "metadata": {
        "id": "v3MwdqyOrLoH"
      },
      "source": [
        "string_int(txt)"
      ],
      "execution_count": null,
      "outputs": []
    },
    {
      "cell_type": "markdown",
      "metadata": {
        "id": "QR7kStQhtj4R"
      },
      "source": [
        "Edabit challenge (Turn hours into seconds)\n",
        "\n",
        "\n",
        "\n"
      ]
    },
    {
      "cell_type": "code",
      "metadata": {
        "id": "Tbk0yK6kt5_T"
      },
      "source": [
        "hours=1"
      ],
      "execution_count": null,
      "outputs": []
    },
    {
      "cell_type": "code",
      "metadata": {
        "id": "BxTJuYXZttFC"
      },
      "source": [
        "def how_many_seconds(hours): \n",
        "    S=hours*3600\n",
        "    return S\n",
        "\t "
      ],
      "execution_count": null,
      "outputs": []
    },
    {
      "cell_type": "code",
      "metadata": {
        "id": "w78bERb3uEAX"
      },
      "source": [
        "how_many_seconds(hours)"
      ],
      "execution_count": null,
      "outputs": []
    },
    {
      "cell_type": "markdown",
      "metadata": {
        "id": "YIhrufgDve92"
      },
      "source": [
        "Create a function that takes a number as an argument, increments the number by +1 and returns the result.\n",
        "\n",
        "Examples\n",
        "addition(0) ➞ 1\n",
        "\n",
        "addition(9) ➞ 10\n",
        "\n",
        "addition(-3) ➞ -2"
      ]
    },
    {
      "cell_type": "code",
      "metadata": {
        "id": "cna8HG6Gvt-N"
      },
      "source": [
        "num=1"
      ],
      "execution_count": null,
      "outputs": []
    },
    {
      "cell_type": "code",
      "metadata": {
        "id": "u_H63ay5vfrD"
      },
      "source": [
        "def addition(num):\n",
        "    num=num+1\n",
        "    return num"
      ],
      "execution_count": null,
      "outputs": []
    },
    {
      "cell_type": "code",
      "metadata": {
        "id": "BXVfnvjmvrko"
      },
      "source": [
        "addition(num)"
      ],
      "execution_count": null,
      "outputs": []
    },
    {
      "cell_type": "code",
      "metadata": {
        "id": "9Upg1Gurxwub"
      },
      "source": [
        "def circuit_power(voltage, current):\n",
        "    S=Voltage*current\n",
        "    return S"
      ],
      "execution_count": null,
      "outputs": []
    },
    {
      "cell_type": "markdown",
      "metadata": {
        "id": "vfK4G0g7yCBo"
      },
      "source": [
        "Find the Perimeter of a Rectangle\n",
        "Create a function that takes length and width and finds the perimeter of a rectangle."
      ]
    },
    {
      "cell_type": "code",
      "metadata": {
        "id": "7Lz6Gi34yDGN"
      },
      "source": [
        "def find_perimeter(length, width):\n",
        "    S=length*2+width*2\n",
        "    return S"
      ],
      "execution_count": null,
      "outputs": []
    },
    {
      "cell_type": "code",
      "metadata": {
        "id": "SMn6tgLi4YuW"
      },
      "source": [
        "def remainder(x, y):\n",
        "    S=x % y\n",
        "    return S"
      ],
      "execution_count": null,
      "outputs": []
    },
    {
      "cell_type": "code",
      "metadata": {
        "id": "E4HHi7qR4cFy"
      },
      "source": [
        "remainder(1,2)"
      ],
      "execution_count": null,
      "outputs": []
    },
    {
      "cell_type": "code",
      "metadata": {
        "id": "-u2mDen_447v"
      },
      "source": [
        "flag= True"
      ],
      "execution_count": null,
      "outputs": []
    },
    {
      "cell_type": "code",
      "metadata": {
        "id": "XO_hT4kJ42bF"
      },
      "source": [
        "def bool_to_string(flag):\n",
        "    S=str(flag)\n",
        "    return S"
      ],
      "execution_count": null,
      "outputs": []
    },
    {
      "cell_type": "code",
      "metadata": {
        "id": "ZIfWb_O74-S3"
      },
      "source": [
        "bool_to_string(True)"
      ],
      "execution_count": null,
      "outputs": []
    },
    {
      "cell_type": "code",
      "metadata": {
        "id": "Zn0apKj0625s"
      },
      "source": [
        "matrix=[\n",
        "  [ 0, 1, 0, 1, 1 ],\n",
        "  [ 1, 0, 1, 0, 0 ],\n",
        "  [ 0, 1, 0, 1, 0 ],\n",
        "  [ 1, 0, 1, 0, 1 ],\n",
        "  [ 1, 0, 0, 1, 0 ]\n",
        "]"
      ],
      "execution_count": null,
      "outputs": []
    },
    {
      "cell_type": "code",
      "metadata": {
        "id": "82bdcunM7OQz"
      },
      "source": [
        "S=matrix[0]"
      ],
      "execution_count": null,
      "outputs": []
    },
    {
      "cell_type": "code",
      "metadata": {
        "id": "mlgQ-Z8X6z9N"
      },
      "source": [
        "def is_adjacent(matrix, node1, node2):\n",
        "    S=matrix[node1][node2]\n",
        "    if (S==1):\n",
        "      L=True\n",
        "    else:\n",
        "         L=False\n",
        "    return L"
      ],
      "execution_count": null,
      "outputs": []
    },
    {
      "cell_type": "code",
      "metadata": {
        "id": "EbgA_dJt67WQ"
      },
      "source": [
        "is_adjacent(matrix,0,1)"
      ],
      "execution_count": null,
      "outputs": []
    },
    {
      "cell_type": "code",
      "metadata": {
        "id": "pB5Cz46QBZkC"
      },
      "source": [
        "print(9 >> 3)"
      ],
      "execution_count": null,
      "outputs": []
    },
    {
      "cell_type": "code",
      "metadata": {
        "id": "gyRhEn7mBvoo"
      },
      "source": [
        "def shift_to_right(x, y):\n",
        "    S=x >> y\n",
        "    return S"
      ],
      "execution_count": null,
      "outputs": []
    },
    {
      "cell_type": "code",
      "metadata": {
        "id": "m5rYlOQQBx21"
      },
      "source": [
        "shift_to_right(9, 3)"
      ],
      "execution_count": null,
      "outputs": []
    }
  ]
}